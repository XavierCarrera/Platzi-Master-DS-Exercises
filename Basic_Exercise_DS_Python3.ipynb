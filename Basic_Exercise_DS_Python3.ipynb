{
  "nbformat": 4,
  "nbformat_minor": 0,
  "metadata": {
    "colab": {
      "name": "Basic_Exercise_DS_Python3.ipynb",
      "provenance": [],
      "authorship_tag": "ABX9TyOdwX/jC57guw2lNFIVkPQ7",
      "include_colab_link": true
    },
    "kernelspec": {
      "name": "python3",
      "display_name": "Python 3"
    }
  },
  "cells": [
    {
      "cell_type": "markdown",
      "metadata": {
        "id": "view-in-github",
        "colab_type": "text"
      },
      "source": [
        "<a href=\"https://colab.research.google.com/github/XavierCarrera/Platzi-Master-DS-Exercises/blob/master/Basic_Exercise_DS_Python3.ipynb\" target=\"_parent\"><img src=\"https://colab.research.google.com/assets/colab-badge.svg\" alt=\"Open In Colab\"/></a>"
      ]
    },
    {
      "cell_type": "code",
      "metadata": {
        "id": "Pxumk8j0UuWg"
      },
      "source": [
        "import numpy as np\n",
        "import pandas as pd"
      ],
      "execution_count": 29,
      "outputs": []
    },
    {
      "cell_type": "code",
      "metadata": {
        "id": "6N9uoFtqVy_b",
        "outputId": "5f2cdd1a-1b78-4321-b3e8-70f734b412e1",
        "colab": {
          "base_uri": "https://localhost:8080/",
          "height": 34
        }
      },
      "source": [
        "from google.colab import drive\n",
        "drive.mount('/content/drive/')"
      ],
      "execution_count": 30,
      "outputs": [
        {
          "output_type": "stream",
          "text": [
            "Drive already mounted at /content/drive/; to attempt to forcibly remount, call drive.mount(\"/content/drive/\", force_remount=True).\n"
          ],
          "name": "stdout"
        }
      ]
    },
    {
      "cell_type": "code",
      "metadata": {
        "id": "-bO-VaHFWAke"
      },
      "source": [
        "%cd '/content/drive/My Drive/Colab Notebooks/db'\n",
        "!ls"
      ],
      "execution_count": null,
      "outputs": []
    },
    {
      "cell_type": "code",
      "metadata": {
        "id": "bjYQQSxFWDM-",
        "outputId": "f70b700f-0346-4bc2-924e-3c16c3c2fdab",
        "colab": {
          "base_uri": "https://localhost:8080/",
          "height": 34
        }
      },
      "source": [
        "df = pd.read_csv('houseelf_earlength_dna_data.csv')\n",
        "df.columns"
      ],
      "execution_count": 32,
      "outputs": [
        {
          "output_type": "execute_result",
          "data": {
            "text/plain": [
              "Index(['id', 'earlength', 'dnaseq'], dtype='object')"
            ]
          },
          "metadata": {
            "tags": []
          },
          "execution_count": 32
        }
      ]
    },
    {
      "cell_type": "code",
      "metadata": {
        "id": "Rua8lC4iWLZr",
        "outputId": "b602eff8-afea-4115-cd20-347f694627e8",
        "colab": {
          "base_uri": "https://localhost:8080/",
          "height": 170
        }
      },
      "source": [
        "df[\"earlength\"].describe()"
      ],
      "execution_count": 33,
      "outputs": [
        {
          "output_type": "execute_result",
          "data": {
            "text/plain": [
              "count    10.00000\n",
              "mean     10.60000\n",
              "std       3.63318\n",
              "min       5.10000\n",
              "25%       8.50000\n",
              "50%       9.95000\n",
              "75%      11.97500\n",
              "max      17.80000\n",
              "Name: earlength, dtype: float64"
            ]
          },
          "metadata": {
            "tags": []
          },
          "execution_count": 33
        }
      ]
    },
    {
      "cell_type": "code",
      "metadata": {
        "id": "vRb3Zcf9X3E2",
        "outputId": "c6ef10c6-7251-49c1-9e75-42fb359619e9",
        "colab": {
          "base_uri": "https://localhost:8080/",
          "height": 34
        }
      },
      "source": [
        "y = np.where(df[\"earlength\"] >= 10, 1, 0)\n",
        "y"
      ],
      "execution_count": 34,
      "outputs": [
        {
          "output_type": "execute_result",
          "data": {
            "text/plain": [
              "array([0, 0, 1, 0, 1, 1, 0, 1, 0, 1])"
            ]
          },
          "metadata": {
            "tags": []
          },
          "execution_count": 34
        }
      ]
    },
    {
      "cell_type": "code",
      "metadata": {
        "id": "g90A3jRUaTp3"
      },
      "source": [
        "gc = df\n",
        "gc.insert(2, \"Ear Classification\", y, True)"
      ],
      "execution_count": 35,
      "outputs": []
    },
    {
      "cell_type": "code",
      "metadata": {
        "id": "w52wJyBudlBB",
        "outputId": "4ccb070d-f762-4c75-a11d-68c56618ef5d",
        "colab": {
          "base_uri": "https://localhost:8080/",
          "height": 359
        }
      },
      "source": [
        "gc[\"Ear Classification\"] = gc[\"Ear Classification\"].replace([0], \"Small ear\")\n",
        "gc[\"Ear Classification\"] = gc[\"Ear Classification\"].replace([1], \"Big ear\")\n",
        "gc"
      ],
      "execution_count": 37,
      "outputs": [
        {
          "output_type": "execute_result",
          "data": {
            "text/html": [
              "<div>\n",
              "<style scoped>\n",
              "    .dataframe tbody tr th:only-of-type {\n",
              "        vertical-align: middle;\n",
              "    }\n",
              "\n",
              "    .dataframe tbody tr th {\n",
              "        vertical-align: top;\n",
              "    }\n",
              "\n",
              "    .dataframe thead th {\n",
              "        text-align: right;\n",
              "    }\n",
              "</style>\n",
              "<table border=\"1\" class=\"dataframe\">\n",
              "  <thead>\n",
              "    <tr style=\"text-align: right;\">\n",
              "      <th></th>\n",
              "      <th>id</th>\n",
              "      <th>earlength</th>\n",
              "      <th>Ear Classification</th>\n",
              "      <th>dnaseq</th>\n",
              "    </tr>\n",
              "  </thead>\n",
              "  <tbody>\n",
              "    <tr>\n",
              "      <th>0</th>\n",
              "      <td>17A</td>\n",
              "      <td>5.1</td>\n",
              "      <td>Small ear</td>\n",
              "      <td>CCGCATCTTGACTTAACTGACATATTACCATAGATGACTAGCCATG...</td>\n",
              "    </tr>\n",
              "    <tr>\n",
              "      <th>1</th>\n",
              "      <td>24P</td>\n",
              "      <td>7.5</td>\n",
              "      <td>Small ear</td>\n",
              "      <td>GCTATGACTTGCTTAGCTACGTATGAAGGAAGAAACTTTTGTGTAT...</td>\n",
              "    </tr>\n",
              "    <tr>\n",
              "      <th>2</th>\n",
              "      <td>09Q</td>\n",
              "      <td>12.2</td>\n",
              "      <td>Big ear</td>\n",
              "      <td>CCGCCGATTGATACAGGGGACGGTGACGTCGTCATAGATTCGGCAC...</td>\n",
              "    </tr>\n",
              "    <tr>\n",
              "      <th>3</th>\n",
              "      <td>65Y</td>\n",
              "      <td>9.9</td>\n",
              "      <td>Small ear</td>\n",
              "      <td>GCAGGAGAAGTTCTTAACCTTCTCGTAGGACGTCAACCTATTCTTT...</td>\n",
              "    </tr>\n",
              "    <tr>\n",
              "      <th>4</th>\n",
              "      <td>19N</td>\n",
              "      <td>10.0</td>\n",
              "      <td>Big ear</td>\n",
              "      <td>TCTTCATCCTTATCAAAGTTTGGAGTCAATGATCAGGATTATTGCC...</td>\n",
              "    </tr>\n",
              "    <tr>\n",
              "      <th>5</th>\n",
              "      <td>92K</td>\n",
              "      <td>14.6</td>\n",
              "      <td>Big ear</td>\n",
              "      <td>ACCGATGGACAATGATTCGGGTAGCACCAGGAGTCCGTAGCGCGTG...</td>\n",
              "    </tr>\n",
              "    <tr>\n",
              "      <th>6</th>\n",
              "      <td>33W</td>\n",
              "      <td>8.2</td>\n",
              "      <td>Small ear</td>\n",
              "      <td>CAGCTTGACTCGGTCTGTTAGGCCACGATTACGTGAGTTAGGGCTC...</td>\n",
              "    </tr>\n",
              "    <tr>\n",
              "      <th>7</th>\n",
              "      <td>98C</td>\n",
              "      <td>17.8</td>\n",
              "      <td>Big ear</td>\n",
              "      <td>CTGCATGCTAGGTTGACACGCCTGCACTGCTCGAAGAAAATATGCG...</td>\n",
              "    </tr>\n",
              "    <tr>\n",
              "      <th>8</th>\n",
              "      <td>75G</td>\n",
              "      <td>9.4</td>\n",
              "      <td>Small ear</td>\n",
              "      <td>CTTATTTAGATAACATGATTAGCCGAAGTTGTACGGGATATCCACC...</td>\n",
              "    </tr>\n",
              "    <tr>\n",
              "      <th>9</th>\n",
              "      <td>88Q</td>\n",
              "      <td>11.3</td>\n",
              "      <td>Big ear</td>\n",
              "      <td>GATTGCTCGCACATGAGCAAAACGGTAGAGCGTCACTTTCAGCCCT...</td>\n",
              "    </tr>\n",
              "  </tbody>\n",
              "</table>\n",
              "</div>"
            ],
            "text/plain": [
              "    id  ...                                             dnaseq\n",
              "0  17A  ...  CCGCATCTTGACTTAACTGACATATTACCATAGATGACTAGCCATG...\n",
              "1  24P  ...  GCTATGACTTGCTTAGCTACGTATGAAGGAAGAAACTTTTGTGTAT...\n",
              "2  09Q  ...  CCGCCGATTGATACAGGGGACGGTGACGTCGTCATAGATTCGGCAC...\n",
              "3  65Y  ...  GCAGGAGAAGTTCTTAACCTTCTCGTAGGACGTCAACCTATTCTTT...\n",
              "4  19N  ...  TCTTCATCCTTATCAAAGTTTGGAGTCAATGATCAGGATTATTGCC...\n",
              "5  92K  ...  ACCGATGGACAATGATTCGGGTAGCACCAGGAGTCCGTAGCGCGTG...\n",
              "6  33W  ...  CAGCTTGACTCGGTCTGTTAGGCCACGATTACGTGAGTTAGGGCTC...\n",
              "7  98C  ...  CTGCATGCTAGGTTGACACGCCTGCACTGCTCGAAGAAAATATGCG...\n",
              "8  75G  ...  CTTATTTAGATAACATGATTAGCCGAAGTTGTACGGGATATCCACC...\n",
              "9  88Q  ...  GATTGCTCGCACATGAGCAAAACGGTAGAGCGTCACTTTCAGCCCT...\n",
              "\n",
              "[10 rows x 4 columns]"
            ]
          },
          "metadata": {
            "tags": []
          },
          "execution_count": 37
        }
      ]
    },
    {
      "cell_type": "code",
      "metadata": {
        "id": "gV2wKO9md1ez",
        "outputId": "cc0256fe-e785-4921-ea20-8d7a6c81b62b",
        "colab": {
          "base_uri": "https://localhost:8080/",
          "height": 17
        }
      },
      "source": [
        "from google.colab import files\n",
        "df.to_csv('grangers_analysis.csv') \n",
        "files.download('grangers_analysis.csv')"
      ],
      "execution_count": 38,
      "outputs": [
        {
          "output_type": "display_data",
          "data": {
            "application/javascript": [
              "\n",
              "    async function download(id, filename, size) {\n",
              "      if (!google.colab.kernel.accessAllowed) {\n",
              "        return;\n",
              "      }\n",
              "      const div = document.createElement('div');\n",
              "      const label = document.createElement('label');\n",
              "      label.textContent = `Downloading \"${filename}\": `;\n",
              "      div.appendChild(label);\n",
              "      const progress = document.createElement('progress');\n",
              "      progress.max = size;\n",
              "      div.appendChild(progress);\n",
              "      document.body.appendChild(div);\n",
              "\n",
              "      const buffers = [];\n",
              "      let downloaded = 0;\n",
              "\n",
              "      const channel = await google.colab.kernel.comms.open(id);\n",
              "      // Send a message to notify the kernel that we're ready.\n",
              "      channel.send({})\n",
              "\n",
              "      for await (const message of channel.messages) {\n",
              "        // Send a message to notify the kernel that we're ready.\n",
              "        channel.send({})\n",
              "        if (message.buffers) {\n",
              "          for (const buffer of message.buffers) {\n",
              "            buffers.push(buffer);\n",
              "            downloaded += buffer.byteLength;\n",
              "            progress.value = downloaded;\n",
              "          }\n",
              "        }\n",
              "      }\n",
              "      const blob = new Blob(buffers, {type: 'application/binary'});\n",
              "      const a = document.createElement('a');\n",
              "      a.href = window.URL.createObjectURL(blob);\n",
              "      a.download = filename;\n",
              "      div.appendChild(a);\n",
              "      a.click();\n",
              "      div.remove();\n",
              "    }\n",
              "  "
            ],
            "text/plain": [
              "<IPython.core.display.Javascript object>"
            ]
          },
          "metadata": {
            "tags": []
          }
        },
        {
          "output_type": "display_data",
          "data": {
            "application/javascript": [
              "download(\"download_23b5f8ff-3042-412c-a3dc-8129e86234bb\", \"grangers_analysis.csv\", 1245)"
            ],
            "text/plain": [
              "<IPython.core.display.Javascript object>"
            ]
          },
          "metadata": {
            "tags": []
          }
        }
      ]
    }
  ]
}