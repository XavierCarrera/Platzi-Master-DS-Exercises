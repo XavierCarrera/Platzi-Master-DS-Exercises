{
  "nbformat": 4,
  "nbformat_minor": 0,
  "metadata": {
    "colab": {
      "name": "Basic_Exercise_DS_Python2.ipynb",
      "provenance": [],
      "authorship_tag": "ABX9TyO/9DamwrK46ZpNFED1KwKG",
      "include_colab_link": true
    },
    "kernelspec": {
      "name": "python3",
      "display_name": "Python 3"
    }
  },
  "cells": [
    {
      "cell_type": "markdown",
      "metadata": {
        "id": "view-in-github",
        "colab_type": "text"
      },
      "source": [
        "<a href=\"https://colab.research.google.com/github/XavierCarrera/Platzi-Master-DS-Exercises/blob/master/Basic_Exercise_DS_Python2.ipynb\" target=\"_parent\"><img src=\"https://colab.research.google.com/assets/colab-badge.svg\" alt=\"Open In Colab\"/></a>"
      ]
    },
    {
      "cell_type": "code",
      "metadata": {
        "id": "DbAaIvLl9_Hk",
        "colab_type": "code",
        "colab": {}
      },
      "source": [
        "import numpy as np\n",
        "import scipy.stats as stats\n",
        "import pandas as pd\n",
        "import sklearn as sk\n",
        "from sklearn import preprocessing\n",
        "import matplotlib.pyplot as plt"
      ],
      "execution_count": 131,
      "outputs": []
    },
    {
      "cell_type": "markdown",
      "metadata": {
        "id": "wlyeO33DhDnE",
        "colab_type": "text"
      },
      "source": [
        "# 1. Read the csv file and show columns"
      ]
    },
    {
      "cell_type": "code",
      "metadata": {
        "id": "RARGR-PJ_Hqs",
        "colab_type": "code",
        "colab": {
          "base_uri": "https://localhost:8080/",
          "height": 34
        },
        "outputId": "11363ff2-0e37-4fe8-e2d8-1e0d14dd73c2"
      },
      "source": [
        "from google.colab import drive\n",
        "drive.mount('/content/drive/')"
      ],
      "execution_count": 105,
      "outputs": [
        {
          "output_type": "stream",
          "text": [
            "Drive already mounted at /content/drive/; to attempt to forcibly remount, call drive.mount(\"/content/drive/\", force_remount=True).\n"
          ],
          "name": "stdout"
        }
      ]
    },
    {
      "cell_type": "code",
      "metadata": {
        "id": "Ge83Sa3vh9yg",
        "colab_type": "code",
        "colab": {
          "base_uri": "https://localhost:8080/",
          "height": 68
        },
        "outputId": "ebd46c51-b287-4d4e-b1f1-1ab35f564c0e"
      },
      "source": [
        "df = pd.read_csv('cruise_ship_info.csv')\n",
        "df.columns"
      ],
      "execution_count": 106,
      "outputs": [
        {
          "output_type": "execute_result",
          "data": {
            "text/plain": [
              "Index(['Ship_name', 'Cruise_line', 'Age', 'Tonnage', 'passengers', 'length',\n",
              "       'cabins', 'passenger_density', 'crew'],\n",
              "      dtype='object')"
            ]
          },
          "metadata": {
            "tags": []
          },
          "execution_count": 106
        }
      ]
    },
    {
      "cell_type": "markdown",
      "metadata": {
        "id": "pBePRjCchNmd",
        "colab_type": "text"
      },
      "source": [
        "# 2. Basic statistic analysis"
      ]
    },
    {
      "cell_type": "code",
      "metadata": {
        "id": "ySybzdwusB9D",
        "colab_type": "code",
        "colab": {
          "base_uri": "https://localhost:8080/",
          "height": 187
        },
        "outputId": "9ef4435c-8a49-42c9-f555-764b475682d8"
      },
      "source": [
        "pd.isnull(df).sum()"
      ],
      "execution_count": 107,
      "outputs": [
        {
          "output_type": "execute_result",
          "data": {
            "text/plain": [
              "Ship_name            0\n",
              "Cruise_line          0\n",
              "Age                  0\n",
              "Tonnage              0\n",
              "passengers           0\n",
              "length               0\n",
              "cabins               0\n",
              "passenger_density    0\n",
              "crew                 0\n",
              "dtype: int64"
            ]
          },
          "metadata": {
            "tags": []
          },
          "execution_count": 107
        }
      ]
    },
    {
      "cell_type": "code",
      "metadata": {
        "id": "tNo4ROA5tfUa",
        "colab_type": "code",
        "colab": {
          "base_uri": "https://localhost:8080/",
          "height": 49
        },
        "outputId": "90971a76-8ffa-46dd-a118-ff2933590aa3"
      },
      "source": [
        "df[df.duplicated()]"
      ],
      "execution_count": null,
      "outputs": [
        {
          "output_type": "execute_result",
          "data": {
            "text/html": [
              "<div>\n",
              "<style scoped>\n",
              "    .dataframe tbody tr th:only-of-type {\n",
              "        vertical-align: middle;\n",
              "    }\n",
              "\n",
              "    .dataframe tbody tr th {\n",
              "        vertical-align: top;\n",
              "    }\n",
              "\n",
              "    .dataframe thead th {\n",
              "        text-align: right;\n",
              "    }\n",
              "</style>\n",
              "<table border=\"1\" class=\"dataframe\">\n",
              "  <thead>\n",
              "    <tr style=\"text-align: right;\">\n",
              "      <th></th>\n",
              "      <th>Ship_name</th>\n",
              "      <th>Cruise_line</th>\n",
              "      <th>Age</th>\n",
              "      <th>Tonnage</th>\n",
              "      <th>passengers</th>\n",
              "      <th>length</th>\n",
              "      <th>cabins</th>\n",
              "      <th>passenger_density</th>\n",
              "      <th>crew</th>\n",
              "    </tr>\n",
              "  </thead>\n",
              "  <tbody>\n",
              "  </tbody>\n",
              "</table>\n",
              "</div>"
            ],
            "text/plain": [
              "Empty DataFrame\n",
              "Columns: [Ship_name, Cruise_line, Age, Tonnage, passengers, length, cabins, passenger_density, crew]\n",
              "Index: []"
            ]
          },
          "metadata": {
            "tags": []
          },
          "execution_count": 24
        }
      ]
    },
    {
      "cell_type": "code",
      "metadata": {
        "id": "rc2X7UtluSVp",
        "colab_type": "code",
        "colab": {
          "base_uri": "https://localhost:8080/",
          "height": 297
        },
        "outputId": "15ab4bf6-1e41-424c-87d7-38bc0cf3bae6"
      },
      "source": [
        "df[[\"Age\", \"Tonnage\", \"passengers\", \"length\", \"cabins\", \"passenger_density\", \"crew\"]].describe()"
      ],
      "execution_count": null,
      "outputs": [
        {
          "output_type": "execute_result",
          "data": {
            "text/html": [
              "<div>\n",
              "<style scoped>\n",
              "    .dataframe tbody tr th:only-of-type {\n",
              "        vertical-align: middle;\n",
              "    }\n",
              "\n",
              "    .dataframe tbody tr th {\n",
              "        vertical-align: top;\n",
              "    }\n",
              "\n",
              "    .dataframe thead th {\n",
              "        text-align: right;\n",
              "    }\n",
              "</style>\n",
              "<table border=\"1\" class=\"dataframe\">\n",
              "  <thead>\n",
              "    <tr style=\"text-align: right;\">\n",
              "      <th></th>\n",
              "      <th>Age</th>\n",
              "      <th>Tonnage</th>\n",
              "      <th>passengers</th>\n",
              "      <th>length</th>\n",
              "      <th>cabins</th>\n",
              "      <th>passenger_density</th>\n",
              "      <th>crew</th>\n",
              "    </tr>\n",
              "  </thead>\n",
              "  <tbody>\n",
              "    <tr>\n",
              "      <th>count</th>\n",
              "      <td>158.000000</td>\n",
              "      <td>158.000000</td>\n",
              "      <td>158.000000</td>\n",
              "      <td>158.000000</td>\n",
              "      <td>158.000000</td>\n",
              "      <td>158.000000</td>\n",
              "      <td>158.000000</td>\n",
              "    </tr>\n",
              "    <tr>\n",
              "      <th>mean</th>\n",
              "      <td>15.689873</td>\n",
              "      <td>71.284671</td>\n",
              "      <td>18.457405</td>\n",
              "      <td>8.130633</td>\n",
              "      <td>8.830000</td>\n",
              "      <td>39.900949</td>\n",
              "      <td>7.794177</td>\n",
              "    </tr>\n",
              "    <tr>\n",
              "      <th>std</th>\n",
              "      <td>7.615691</td>\n",
              "      <td>37.229540</td>\n",
              "      <td>9.677095</td>\n",
              "      <td>1.793474</td>\n",
              "      <td>4.471417</td>\n",
              "      <td>8.639217</td>\n",
              "      <td>3.503487</td>\n",
              "    </tr>\n",
              "    <tr>\n",
              "      <th>min</th>\n",
              "      <td>4.000000</td>\n",
              "      <td>2.329000</td>\n",
              "      <td>0.660000</td>\n",
              "      <td>2.790000</td>\n",
              "      <td>0.330000</td>\n",
              "      <td>17.700000</td>\n",
              "      <td>0.590000</td>\n",
              "    </tr>\n",
              "    <tr>\n",
              "      <th>25%</th>\n",
              "      <td>10.000000</td>\n",
              "      <td>46.013000</td>\n",
              "      <td>12.535000</td>\n",
              "      <td>7.100000</td>\n",
              "      <td>6.132500</td>\n",
              "      <td>34.570000</td>\n",
              "      <td>5.480000</td>\n",
              "    </tr>\n",
              "    <tr>\n",
              "      <th>50%</th>\n",
              "      <td>14.000000</td>\n",
              "      <td>71.899000</td>\n",
              "      <td>19.500000</td>\n",
              "      <td>8.555000</td>\n",
              "      <td>9.570000</td>\n",
              "      <td>39.085000</td>\n",
              "      <td>8.150000</td>\n",
              "    </tr>\n",
              "    <tr>\n",
              "      <th>75%</th>\n",
              "      <td>20.000000</td>\n",
              "      <td>90.772500</td>\n",
              "      <td>24.845000</td>\n",
              "      <td>9.510000</td>\n",
              "      <td>10.885000</td>\n",
              "      <td>44.185000</td>\n",
              "      <td>9.990000</td>\n",
              "    </tr>\n",
              "    <tr>\n",
              "      <th>max</th>\n",
              "      <td>48.000000</td>\n",
              "      <td>220.000000</td>\n",
              "      <td>54.000000</td>\n",
              "      <td>11.820000</td>\n",
              "      <td>27.000000</td>\n",
              "      <td>71.430000</td>\n",
              "      <td>21.000000</td>\n",
              "    </tr>\n",
              "  </tbody>\n",
              "</table>\n",
              "</div>"
            ],
            "text/plain": [
              "              Age     Tonnage  ...  passenger_density        crew\n",
              "count  158.000000  158.000000  ...         158.000000  158.000000\n",
              "mean    15.689873   71.284671  ...          39.900949    7.794177\n",
              "std      7.615691   37.229540  ...           8.639217    3.503487\n",
              "min      4.000000    2.329000  ...          17.700000    0.590000\n",
              "25%     10.000000   46.013000  ...          34.570000    5.480000\n",
              "50%     14.000000   71.899000  ...          39.085000    8.150000\n",
              "75%     20.000000   90.772500  ...          44.185000    9.990000\n",
              "max     48.000000  220.000000  ...          71.430000   21.000000\n",
              "\n",
              "[8 rows x 7 columns]"
            ]
          },
          "metadata": {
            "tags": []
          },
          "execution_count": 26
        }
      ]
    },
    {
      "cell_type": "code",
      "metadata": {
        "id": "DnspWkh35S1F",
        "colab_type": "code",
        "colab": {
          "base_uri": "https://localhost:8080/",
          "height": 312
        },
        "outputId": "853cf27d-cfe3-4d49-e606-3e9f720c8100"
      },
      "source": [
        "# CREW ANALYSIS -- NORMAL DISTRIBUTION\n",
        "\n",
        "crew_min = pd.DataFrame.min(df[\"crew\"])\n",
        "crew_max = pd.DataFrame.max(df[\"crew\"])\n",
        "\n",
        "crew_mean = pd.DataFrame.mean(df[\"crew\"])\n",
        "crew_std = pd.DataFrame.std(df[\"crew\"])\n",
        "\n",
        "crew_x = np.linspace(crew_min, crew_max)\n",
        "crew_y = scipy.stats.norm.pdf(crew_x,crew_mean,crew_std)\n",
        "\n",
        "plt.plot(crew_x, crew_y, color = \"black\")\n",
        "\n",
        "## Sigma 1\n",
        "\n",
        "pt1 = crew_mean + crew_std\n",
        "plt.plot([pt1 ,pt1 ],[0.0,scipy.stats.norm.pdf(pt1 ,crew_mean, crew_std)], color='black')\n",
        "\n",
        "pt2 = crew_mean - crew_std\n",
        "plt.plot([pt2 ,pt2 ],[0.0,scipy.stats.norm.pdf(pt2 ,crew_mean, crew_std)], color='black')\n",
        "\n",
        "ptx = np.linspace(pt1, pt2, 10)\n",
        "pty = scipy.stats.norm.pdf(ptx, crew_mean, crew_std)\n",
        "\n",
        "plt.fill_between(ptx, pty, color='#0b559f', alpha=1.0)\n",
        "\n",
        "## Simga +2\n",
        "\n",
        "pt1 = crew_mean + crew_std\n",
        "plt.plot([pt1 ,pt1 ],[0.0,scipy.stats.norm.pdf(pt1, crew_mean, crew_std)], color='black')\n",
        "\n",
        "pt2 = crew_mean + 2.0 * crew_std\n",
        "plt.plot([pt2 ,pt2 ],[0.0,scipy.stats.norm.pdf(pt2, crew_mean, crew_std)], color='black')\n",
        "\n",
        "ptx = np.linspace(pt1, pt2, 10)\n",
        "pty = scipy.stats.norm.pdf(ptx, crew_mean, crew_std)\n",
        "\n",
        "plt.fill_between(ptx, pty, color='#2b7bba', alpha=1.0)\n",
        "\n",
        "## Sigma -2 \n",
        "\n",
        "pt1 = crew_mean - crew_std\n",
        "plt.plot([pt1 ,pt1 ],[0.0,scipy.stats.norm.pdf(pt1, crew_mean, crew_std)], color='black')\n",
        "\n",
        "pt2 = crew_mean - 2.0 * crew_std\n",
        "plt.plot([pt2 ,pt2 ],[0.0,scipy.stats.norm.pdf(pt2, crew_mean, crew_std)], color='black')\n",
        "\n",
        "ptx = np.linspace(pt1, pt2, 10)\n",
        "pty = scipy.stats.norm.pdf(ptx,crew_mean,crew_std)\n",
        "\n",
        "plt.fill_between(ptx, pty, color='#2b7bba', alpha=1.0)\n",
        "\n",
        "## Sigma +3\n",
        "\n",
        "pt1 = crew_mean + 2.0 * crew_std\n",
        "plt.plot([pt1 ,pt1 ],[0.0,scipy.stats.norm.pdf(pt1, crew_mean, crew_std)], color='black')\n",
        "\n",
        "pt2 = crew_mean + 3.0 * crew_std\n",
        "plt.plot([pt2 ,pt2 ],[0.0,scipy.stats.norm.pdf(pt2, crew_mean, crew_std)], color='black')\n",
        "\n",
        "ptx = np.linspace(pt1, pt2, 10)\n",
        "pty = scipy.stats.norm.pdf(ptx,crew_mean,crew_std)\n",
        "\n",
        "plt.fill_between(ptx, pty, color='#539ecd', alpha=1.0)\n",
        "\n",
        "## Sigma -3\n",
        "\n",
        "pt1 = crew_mean - 2.0 * crew_std\n",
        "plt.plot([pt1 ,pt1 ],[0.0,scipy.stats.norm.pdf(pt1, crew_mean, crew_std)], color='black')\n",
        "\n",
        "pt2 = crew_mean - 3.0 * crew_std\n",
        "plt.plot([pt2 ,pt2 ],[0.0,scipy.stats.norm.pdf(pt2, crew_mean, crew_std)], color='black')\n",
        "\n",
        "ptx = np.linspace(pt1, pt2, 10)\n",
        "pty = scipy.stats.norm.pdf(ptx,crew_mean,crew_std)\n",
        "\n",
        "plt.fill_between(ptx, pty, color='#539ecd', alpha=1.0)\n",
        "\n",
        "## Sigma +4\n",
        "\n",
        "pt1 = crew_mean + 3.0 * crew_std\n",
        "plt.plot([pt1 ,pt1 ],[0.0,scipy.stats.norm.pdf(pt1, crew_mean, crew_std)], color='black')\n",
        "\n",
        "pt2 = crew_mean + 10.0 * crew_std\n",
        "plt.plot([pt2 ,pt2 ],[0.0,scipy.stats.norm.pdf(pt2, crew_mean, crew_std)], color='black')\n",
        "\n",
        "ptx = np.linspace(pt1, pt2, 10)\n",
        "pty = scipy.stats.norm.pdf(ptx,crew_mean,crew_std)\n",
        "\n",
        "plt.fill_between(ptx, pty, color='#89bedc', alpha=1.0)\n",
        "\n",
        "## Plotting\n",
        "\n",
        "plt.grid()\n",
        "\n",
        "plt.xlim(crew_min, crew_max)\n",
        "plt.ylim(0,0.12)\n",
        "\n",
        "plt.title(\"Normal Distribution of Crew Members\")\n",
        "\n",
        "plt.xlabel(\"Crew Members\")\n",
        "plt.ylabel(\"Normal Distribution\")\n",
        "\n",
        "plt.show"
      ],
      "execution_count": 108,
      "outputs": [
        {
          "output_type": "execute_result",
          "data": {
            "text/plain": [
              "<function matplotlib.pyplot.show>"
            ]
          },
          "metadata": {
            "tags": []
          },
          "execution_count": 108
        },
        {
          "output_type": "display_data",
          "data": {
            "image/png": "[encoded data removed]",
            "text/plain": [
              "<Figure size 432x288 with 1 Axes>"
            ]
          },
          "metadata": {
            "tags": [],
            "needs_background": "light"
          }
        }
      ]
    },
    {
      "cell_type": "code",
      "metadata": {
        "id": "2guhoGMSTvWb",
        "colab_type": "code",
        "colab": {
          "base_uri": "https://localhost:8080/",
          "height": 265
        },
        "outputId": "188865b0-4a96-4ff5-ca08-49bbdb819f18"
      },
      "source": [
        "# CREW ANALYSIS -- BOXPLOT\n",
        "\n",
        "crew_boxplot = df.boxplot(column=['crew'])"
      ],
      "execution_count": 110,
      "outputs": [
        {
          "output_type": "display_data",
          "data": {
            "image/png": "[encoded data removed]",
            "text/plain": [
              "<Figure size 432x288 with 1 Axes>"
            ]
          },
          "metadata": {
            "tags": [],
            "needs_background": "light"
          }
        }
      ]
    },
    {
      "cell_type": "markdown",
      "metadata": {
        "id": "Ram0k5_eIt7c",
        "colab_type": "text"
      },
      "source": [
        "**Dispertion Analysis**"
      ]
    },
    {
      "cell_type": "code",
      "metadata": {
        "id": "Ss53RqHSF6S1",
        "colab_type": "code",
        "colab": {
          "base_uri": "https://localhost:8080/",
          "height": 279
        },
        "outputId": "e2704839-0a50-4b11-8998-65cec111bd61"
      },
      "source": [
        "crew_age = df.plot.scatter(x = \"Age\", y = \"crew\")"
      ],
      "execution_count": 121,
      "outputs": [
        {
          "output_type": "display_data",
          "data": {
            "image/png": "[encoded data removed]",
            "text/plain": [
              "<Figure size 432x288 with 1 Axes>"
            ]
          },
          "metadata": {
            "tags": [],
            "needs_background": "light"
          }
        }
      ]
    },
    {
      "cell_type": "code",
      "metadata": {
        "id": "4_oYjP5OI4cu",
        "colab_type": "code",
        "colab": {
          "base_uri": "https://localhost:8080/",
          "height": 279
        },
        "outputId": "a4306a20-cad5-4c5e-db3a-5eed3e6d0516"
      },
      "source": [
        "crew_tonnage = df.plot.scatter(x = \"Tonnage\", y = \"crew\")"
      ],
      "execution_count": 122,
      "outputs": [
        {
          "output_type": "display_data",
          "data": {
            "image/png": "[encoded data removed]",
            "text/plain": [
              "<Figure size 432x288 with 1 Axes>"
            ]
          },
          "metadata": {
            "tags": [],
            "needs_background": "light"
          }
        }
      ]
    },
    {
      "cell_type": "code",
      "metadata": {
        "id": "nB0nEEYLJO7q",
        "colab_type": "code",
        "colab": {
          "base_uri": "https://localhost:8080/",
          "height": 279
        },
        "outputId": "123f6c51-0d41-4913-b4f0-0ad922916ef5"
      },
      "source": [
        "crew_pass = df.plot.scatter(x = \"passengers\", y = \"crew\")"
      ],
      "execution_count": 123,
      "outputs": [
        {
          "output_type": "display_data",
          "data": {
            "image/png": "[encoded data removed]",
            "text/plain": [
              "<Figure size 432x288 with 1 Axes>"
            ]
          },
          "metadata": {
            "tags": [],
            "needs_background": "light"
          }
        }
      ]
    },
    {
      "cell_type": "code",
      "metadata": {
        "id": "EGkfo3eVJVWc",
        "colab_type": "code",
        "colab": {
          "base_uri": "https://localhost:8080/",
          "height": 279
        },
        "outputId": "88a6d607-7878-42d4-e61d-d52488a125c5"
      },
      "source": [
        "crew_length = df.plot.scatter(x = \"length\", y = \"crew\")"
      ],
      "execution_count": 124,
      "outputs": [
        {
          "output_type": "display_data",
          "data": {
            "image/png": "[encoded data removed]",
            "text/plain": [
              "<Figure size 432x288 with 1 Axes>"
            ]
          },
          "metadata": {
            "tags": [],
            "needs_background": "light"
          }
        }
      ]
    },
    {
      "cell_type": "code",
      "metadata": {
        "id": "bsjoQ7a5Jnxz",
        "colab_type": "code",
        "colab": {
          "base_uri": "https://localhost:8080/",
          "height": 279
        },
        "outputId": "235b8406-48f8-4afe-8e1d-93ff102ef643"
      },
      "source": [
        "crew_cabins = df.plot.scatter(x = \"cabins\", y = \"crew\")"
      ],
      "execution_count": 125,
      "outputs": [
        {
          "output_type": "display_data",
          "data": {
            "image/png": "[encoded data removed]",
            "text/plain": [
              "<Figure size 432x288 with 1 Axes>"
            ]
          },
          "metadata": {
            "tags": [],
            "needs_background": "light"
          }
        }
      ]
    },
    {
      "cell_type": "code",
      "metadata": {
        "id": "m5k-6GmDJs5t",
        "colab_type": "code",
        "colab": {
          "base_uri": "https://localhost:8080/",
          "height": 280
        },
        "outputId": "1bd58d1a-6ad0-4ae5-e9a4-f8f23cfc50f4"
      },
      "source": [
        "crew_denpass = df.plot.scatter(x = \"passenger_density\", y = \"crew\")"
      ],
      "execution_count": 126,
      "outputs": [
        {
          "output_type": "display_data",
          "data": {
            "image/png": "[encoded data removed]",
            "text/plain": [
              "<Figure size 432x288 with 1 Axes>"
            ]
          },
          "metadata": {
            "tags": [],
            "needs_background": "light"
          }
        }
      ]
    },
    {
      "cell_type": "markdown",
      "metadata": {
        "id": "r9sqxectvH7k",
        "colab_type": "text"
      },
      "source": [
        "For our Exploratory Data Analysis, we start first assesing the most important variable for the recommendation algorithm: crew members. \n",
        "\n",
        "A remarkable fact is that the standard deviation is considerable: 44.92%. The latter means that our data extends through a large range around the median value. Likewise, the bloxpot graph allows to see the existance of few outliers which might have an impact on the position of our mean value.\n",
        "\n",
        "The most outstanding discovery of the EDA process is the correlation between variables. We start from assigning crew members as an dependant value in the y axis and the independent value in the x axis for the remaining values. We're, thus, assuming that the number of crew members depends on the condition of the ship - e.g. the oldest or larger the ship is, a more significant crew is needed to attend the ship. \n",
        "\n",
        "There's a strong correlation in 4 of the 6 independent variables analyzed, which are going to be part of the model to be trained. "
      ]
    },
    {
      "cell_type": "markdown",
      "metadata": {
        "id": "xBS-ViHEvKFj",
        "colab_type": "text"
      },
      "source": [
        "# 3 and 4. Column Selection and Deleting"
      ]
    },
    {
      "cell_type": "markdown",
      "metadata": {
        "id": "k1Fz-ID93h_l",
        "colab_type": "text"
      },
      "source": [
        "For our project, we're going to make an algorithm which recommends a number of crew members based on relatable variables such as age, tonnage, passengers capacity and length. Passenger density is to be deleted because it can be inferred with length and passengers number. Cabins and age, on the other side, doesn't provide further information value given the results of the scatter plots during the EDA process.\n",
        "\n",
        "We'll also delete de Cruise_line column, because we only need the Ship name for indexing purposes. "
      ]
    },
    {
      "cell_type": "code",
      "metadata": {
        "id": "DkvKhTFYJagW",
        "colab_type": "code",
        "colab": {}
      },
      "source": [
        "df = df.drop([\"Cruise_line\", \"Age\", \"cabins\", \"passenger_density\"], axis=1)\n",
        "df"
      ],
      "execution_count": null,
      "outputs": []
    },
    {
      "cell_type": "markdown",
      "metadata": {
        "id": "VwQUrRgWCcPJ",
        "colab_type": "text"
      },
      "source": [
        "# 5. One-Hot Coding"
      ]
    },
    {
      "cell_type": "markdown",
      "metadata": {
        "id": "qSVT8nYaPAXb",
        "colab_type": "text"
      },
      "source": [
        "The cathegorial values help as indexes through the rest of our data set. However, they can't be implemented as one-hot coding because they neither are binary nor they have an ordinal relationship. \n",
        "\n",
        "Therefore, we will use label values. "
      ]
    },
    {
      "cell_type": "code",
      "metadata": {
        "id": "IOMKt9uhVsth",
        "colab_type": "code",
        "colab": {
          "base_uri": "https://localhost:8080/",
          "height": 419
        },
        "outputId": "763bc6a8-b413-4a21-9964-abdc5f08a862"
      },
      "source": [
        "label = preprocessing.LabelEncoder()\n",
        "df[\"Ship_name\"] = label.fit_transform (df['Ship_name'])\n",
        "df"
      ],
      "execution_count": 132,
      "outputs": [
        {
          "output_type": "execute_result",
          "data": {
            "text/html": [
              "<div>\n",
              "<style scoped>\n",
              "    .dataframe tbody tr th:only-of-type {\n",
              "        vertical-align: middle;\n",
              "    }\n",
              "\n",
              "    .dataframe tbody tr th {\n",
              "        vertical-align: top;\n",
              "    }\n",
              "\n",
              "    .dataframe thead th {\n",
              "        text-align: right;\n",
              "    }\n",
              "</style>\n",
              "<table border=\"1\" class=\"dataframe\">\n",
              "  <thead>\n",
              "    <tr style=\"text-align: right;\">\n",
              "      <th></th>\n",
              "      <th>Ship_name</th>\n",
              "      <th>Cruise_line</th>\n",
              "      <th>Tonnage</th>\n",
              "      <th>passengers</th>\n",
              "      <th>length</th>\n",
              "      <th>crew</th>\n",
              "    </tr>\n",
              "  </thead>\n",
              "  <tbody>\n",
              "    <tr>\n",
              "      <th>0</th>\n",
              "      <td>52</td>\n",
              "      <td>Azamara</td>\n",
              "      <td>30.277</td>\n",
              "      <td>6.94</td>\n",
              "      <td>5.94</td>\n",
              "      <td>3.55</td>\n",
              "    </tr>\n",
              "    <tr>\n",
              "      <th>1</th>\n",
              "      <td>91</td>\n",
              "      <td>Azamara</td>\n",
              "      <td>30.277</td>\n",
              "      <td>6.94</td>\n",
              "      <td>5.94</td>\n",
              "      <td>3.55</td>\n",
              "    </tr>\n",
              "    <tr>\n",
              "      <th>2</th>\n",
              "      <td>11</td>\n",
              "      <td>Carnival</td>\n",
              "      <td>47.262</td>\n",
              "      <td>14.86</td>\n",
              "      <td>7.22</td>\n",
              "      <td>6.70</td>\n",
              "    </tr>\n",
              "    <tr>\n",
              "      <th>3</th>\n",
              "      <td>15</td>\n",
              "      <td>Carnival</td>\n",
              "      <td>110.000</td>\n",
              "      <td>29.74</td>\n",
              "      <td>9.53</td>\n",
              "      <td>19.10</td>\n",
              "    </tr>\n",
              "    <tr>\n",
              "      <th>4</th>\n",
              "      <td>20</td>\n",
              "      <td>Carnival</td>\n",
              "      <td>101.353</td>\n",
              "      <td>26.42</td>\n",
              "      <td>8.92</td>\n",
              "      <td>10.00</td>\n",
              "    </tr>\n",
              "    <tr>\n",
              "      <th>...</th>\n",
              "      <td>...</td>\n",
              "      <td>...</td>\n",
              "      <td>...</td>\n",
              "      <td>...</td>\n",
              "      <td>...</td>\n",
              "      <td>...</td>\n",
              "    </tr>\n",
              "    <tr>\n",
              "      <th>153</th>\n",
              "      <td>119</td>\n",
              "      <td>Star</td>\n",
              "      <td>3.341</td>\n",
              "      <td>0.66</td>\n",
              "      <td>2.79</td>\n",
              "      <td>0.59</td>\n",
              "    </tr>\n",
              "    <tr>\n",
              "      <th>154</th>\n",
              "      <td>126</td>\n",
              "      <td>Star</td>\n",
              "      <td>76.800</td>\n",
              "      <td>19.60</td>\n",
              "      <td>8.79</td>\n",
              "      <td>12.00</td>\n",
              "    </tr>\n",
              "    <tr>\n",
              "      <th>155</th>\n",
              "      <td>110</td>\n",
              "      <td>Windstar</td>\n",
              "      <td>5.350</td>\n",
              "      <td>1.58</td>\n",
              "      <td>4.40</td>\n",
              "      <td>0.88</td>\n",
              "    </tr>\n",
              "    <tr>\n",
              "      <th>156</th>\n",
              "      <td>112</td>\n",
              "      <td>Windstar</td>\n",
              "      <td>5.350</td>\n",
              "      <td>1.67</td>\n",
              "      <td>4.40</td>\n",
              "      <td>0.88</td>\n",
              "    </tr>\n",
              "    <tr>\n",
              "      <th>157</th>\n",
              "      <td>116</td>\n",
              "      <td>Windstar</td>\n",
              "      <td>14.745</td>\n",
              "      <td>3.08</td>\n",
              "      <td>6.17</td>\n",
              "      <td>1.80</td>\n",
              "    </tr>\n",
              "  </tbody>\n",
              "</table>\n",
              "<p>158 rows × 6 columns</p>\n",
              "</div>"
            ],
            "text/plain": [
              "     Ship_name Cruise_line  Tonnage  passengers  length   crew\n",
              "0           52     Azamara   30.277        6.94    5.94   3.55\n",
              "1           91     Azamara   30.277        6.94    5.94   3.55\n",
              "2           11    Carnival   47.262       14.86    7.22   6.70\n",
              "3           15    Carnival  110.000       29.74    9.53  19.10\n",
              "4           20    Carnival  101.353       26.42    8.92  10.00\n",
              "..         ...         ...      ...         ...     ...    ...\n",
              "153        119        Star    3.341        0.66    2.79   0.59\n",
              "154        126        Star   76.800       19.60    8.79  12.00\n",
              "155        110    Windstar    5.350        1.58    4.40   0.88\n",
              "156        112    Windstar    5.350        1.67    4.40   0.88\n",
              "157        116    Windstar   14.745        3.08    6.17   1.80\n",
              "\n",
              "[158 rows x 6 columns]"
            ]
          },
          "metadata": {
            "tags": []
          },
          "execution_count": 132
        }
      ]
    },
    {
      "cell_type": "markdown",
      "metadata": {
        "id": "DRLfxMY_WY_c",
        "colab_type": "text"
      },
      "source": [
        "# 6. Training Clusters and Testing"
      ]
    },
    {
      "cell_type": "code",
      "metadata": {
        "id": "bAtjo-qmWVJO",
        "colab_type": "code",
        "colab": {}
      },
      "source": [
        ""
      ],
      "execution_count": null,
      "outputs": []
    },
    {
      "cell_type": "markdown",
      "metadata": {
        "id": "wlY4QXEbWmyh",
        "colab_type": "text"
      },
      "source": [
        "# 7. Model Training"
      ]
    },
    {
      "cell_type": "code",
      "metadata": {
        "id": "WXRthTf3Wq4I",
        "colab_type": "code",
        "colab": {}
      },
      "source": [
        ""
      ],
      "execution_count": null,
      "outputs": []
    },
    {
      "cell_type": "markdown",
      "metadata": {
        "id": "wWOFuyaeWrdE",
        "colab_type": "text"
      },
      "source": [
        "# 8. Hyperparameters"
      ]
    },
    {
      "cell_type": "code",
      "metadata": {
        "id": "INIk3A8bW-51",
        "colab_type": "code",
        "colab": {}
      },
      "source": [
        ""
      ],
      "execution_count": null,
      "outputs": []
    }
  ]
}