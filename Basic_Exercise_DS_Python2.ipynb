{
  "nbformat": 4,
  "nbformat_minor": 0,
  "metadata": {
    "colab": {
      "name": "Basic_Exercise_DS_Python2.ipynb",
      "provenance": [],
      "collapsed_sections": [],
      "authorship_tag": "ABX9TyPn0hkC3PgDNhRpkwUtmM2J",
      "include_colab_link": true
    },
    "kernelspec": {
      "name": "python3",
      "display_name": "Python 3"
    }
  },
  "cells": [
    {
      "cell_type": "markdown",
      "metadata": {
        "id": "view-in-github",
        "colab_type": "text"
      },
      "source": [
        "<a href=\"https://colab.research.google.com/github/XavierCarrera/Platzi-Master-DS-Exercises/blob/master/Basic_Exercise_DS_Python2.ipynb\" target=\"_parent\"><img src=\"https://colab.research.google.com/assets/colab-badge.svg\" alt=\"Open In Colab\"/></a>"
      ]
    },
    {
      "cell_type": "code",
      "metadata": {
        "id": "DbAaIvLl9_Hk",
        "outputId": "94860454-d968-4440-8b96-b76871fcb7c4",
        "colab": {
          "base_uri": "https://localhost:8080/",
          "height": 71
        }
      },
      "source": [
        "import numpy as np\n",
        "import scipy.stats \n",
        "import pandas as pd\n",
        "import statsmodels.api as sm\n",
        "from sklearn.model_selection import train_test_split\n",
        "from sklearn.linear_model import LinearRegression \n",
        "from sklearn.tree import DecisionTreeClassifier\n",
        "from sklearn.metrics import mean_squared_error, r2_score\n",
        "from sklearn.preprocessing import OneHotEncoder\n",
        "from sklearn.compose import ColumnTransformer\n",
        "import matplotlib.pyplot as plt\n",
        "import seaborn as sns\n",
        "%matplotlib inline"
      ],
      "execution_count": 1,
      "outputs": [
        {
          "output_type": "stream",
          "text": [
            "/usr/local/lib/python3.6/dist-packages/statsmodels/tools/_testing.py:19: FutureWarning: pandas.util.testing is deprecated. Use the functions in the public API at pandas.testing instead.\n",
            "  import pandas.util.testing as tm\n"
          ],
          "name": "stderr"
        }
      ]
    },
    {
      "cell_type": "markdown",
      "metadata": {
        "id": "wlyeO33DhDnE"
      },
      "source": [
        "# 1. Read the csv file and show columns"
      ]
    },
    {
      "cell_type": "code",
      "metadata": {
        "id": "RARGR-PJ_Hqs",
        "outputId": "8d7fe9d2-f9a0-4a6d-b474-ea3ad15e8a9e",
        "colab": {
          "base_uri": "https://localhost:8080/",
          "height": 34
        }
      },
      "source": [
        "from google.colab import drive\n",
        "drive.mount('/content/drive/')"
      ],
      "execution_count": 2,
      "outputs": [
        {
          "output_type": "stream",
          "text": [
            "Mounted at /content/drive/\n"
          ],
          "name": "stdout"
        }
      ]
    },
    {
      "cell_type": "code",
      "metadata": {
        "id": "ET3HA3YiszZZ"
      },
      "source": [
        "%cd '/content/drive/My Drive/Colab Notebooks/db'\n",
        "!ls"
      ],
      "execution_count": null,
      "outputs": []
    },
    {
      "cell_type": "code",
      "metadata": {
        "id": "Ge83Sa3vh9yg",
        "outputId": "1cbf98e5-8f85-4d28-8f85-0c3c760f246e",
        "colab": {
          "base_uri": "https://localhost:8080/",
          "height": 68
        }
      },
      "source": [
        "df = pd.read_csv('cruise_ship_info.csv')\n",
        "df.columns"
      ],
      "execution_count": 4,
      "outputs": [
        {
          "output_type": "execute_result",
          "data": {
            "text/plain": [
              "Index(['Ship_name', 'Cruise_line', 'Age', 'Tonnage', 'passengers', 'length',\n",
              "       'cabins', 'passenger_density', 'crew'],\n",
              "      dtype='object')"
            ]
          },
          "metadata": {
            "tags": []
          },
          "execution_count": 4
        }
      ]
    },
    {
      "cell_type": "markdown",
      "metadata": {
        "id": "pBePRjCchNmd"
      },
      "source": [
        "# 2. Basic statistic analysis"
      ]
    },
    {
      "cell_type": "code",
      "metadata": {
        "id": "ySybzdwusB9D",
        "outputId": "ec3420b7-4ab4-4e7a-b41e-c87876122071",
        "colab": {
          "base_uri": "https://localhost:8080/",
          "height": 187
        }
      },
      "source": [
        "pd.isnull(df).sum()"
      ],
      "execution_count": 5,
      "outputs": [
        {
          "output_type": "execute_result",
          "data": {
            "text/plain": [
              "Ship_name            0\n",
              "Cruise_line          0\n",
              "Age                  0\n",
              "Tonnage              0\n",
              "passengers           0\n",
              "length               0\n",
              "cabins               0\n",
              "passenger_density    0\n",
              "crew                 0\n",
              "dtype: int64"
            ]
          },
          "metadata": {
            "tags": []
          },
          "execution_count": 5
        }
      ]
    },
    {
      "cell_type": "code",
      "metadata": {
        "id": "tNo4ROA5tfUa",
        "outputId": "32d0ebb8-1bb8-4ea4-88b6-e7ce30e7acb7",
        "colab": {
          "base_uri": "https://localhost:8080/",
          "height": 49
        }
      },
      "source": [
        "df[df.duplicated()]"
      ],
      "execution_count": 6,
      "outputs": [
        {
          "output_type": "execute_result",
          "data": {
            "text/html": [
              "<div>\n",
              "<style scoped>\n",
              "    .dataframe tbody tr th:only-of-type {\n",
              "        vertical-align: middle;\n",
              "    }\n",
              "\n",
              "    .dataframe tbody tr th {\n",
              "        vertical-align: top;\n",
              "    }\n",
              "\n",
              "    .dataframe thead th {\n",
              "        text-align: right;\n",
              "    }\n",
              "</style>\n",
              "<table border=\"1\" class=\"dataframe\">\n",
              "  <thead>\n",
              "    <tr style=\"text-align: right;\">\n",
              "      <th></th>\n",
              "      <th>Ship_name</th>\n",
              "      <th>Cruise_line</th>\n",
              "      <th>Age</th>\n",
              "      <th>Tonnage</th>\n",
              "      <th>passengers</th>\n",
              "      <th>length</th>\n",
              "      <th>cabins</th>\n",
              "      <th>passenger_density</th>\n",
              "      <th>crew</th>\n",
              "    </tr>\n",
              "  </thead>\n",
              "  <tbody>\n",
              "  </tbody>\n",
              "</table>\n",
              "</div>"
            ],
            "text/plain": [
              "Empty DataFrame\n",
              "Columns: [Ship_name, Cruise_line, Age, Tonnage, passengers, length, cabins, passenger_density, crew]\n",
              "Index: []"
            ]
          },
          "metadata": {
            "tags": []
          },
          "execution_count": 6
        }
      ]
    },
    {
      "cell_type": "code",
      "metadata": {
        "id": "rc2X7UtluSVp",
        "outputId": "66252751-23b0-4d9c-d70c-6b0b0fb99b7d",
        "colab": {
          "base_uri": "https://localhost:8080/",
          "height": 297
        }
      },
      "source": [
        "df[[\"Age\", \"Tonnage\", \"passengers\", \"length\", \"cabins\", \"passenger_density\", \"crew\"]].describe()"
      ],
      "execution_count": 7,
      "outputs": [
        {
          "output_type": "execute_result",
          "data": {
            "text/html": [
              "<div>\n",
              "<style scoped>\n",
              "    .dataframe tbody tr th:only-of-type {\n",
              "        vertical-align: middle;\n",
              "    }\n",
              "\n",
              "    .dataframe tbody tr th {\n",
              "        vertical-align: top;\n",
              "    }\n",
              "\n",
              "    .dataframe thead th {\n",
              "        text-align: right;\n",
              "    }\n",
              "</style>\n",
              "<table border=\"1\" class=\"dataframe\">\n",
              "  <thead>\n",
              "    <tr style=\"text-align: right;\">\n",
              "      <th></th>\n",
              "      <th>Age</th>\n",
              "      <th>Tonnage</th>\n",
              "      <th>passengers</th>\n",
              "      <th>length</th>\n",
              "      <th>cabins</th>\n",
              "      <th>passenger_density</th>\n",
              "      <th>crew</th>\n",
              "    </tr>\n",
              "  </thead>\n",
              "  <tbody>\n",
              "    <tr>\n",
              "      <th>count</th>\n",
              "      <td>158.000000</td>\n",
              "      <td>158.000000</td>\n",
              "      <td>158.000000</td>\n",
              "      <td>158.000000</td>\n",
              "      <td>158.000000</td>\n",
              "      <td>158.000000</td>\n",
              "      <td>158.000000</td>\n",
              "    </tr>\n",
              "    <tr>\n",
              "      <th>mean</th>\n",
              "      <td>15.689873</td>\n",
              "      <td>71.284671</td>\n",
              "      <td>18.457405</td>\n",
              "      <td>8.130633</td>\n",
              "      <td>8.830000</td>\n",
              "      <td>39.900949</td>\n",
              "      <td>7.794177</td>\n",
              "    </tr>\n",
              "    <tr>\n",
              "      <th>std</th>\n",
              "      <td>7.615691</td>\n",
              "      <td>37.229540</td>\n",
              "      <td>9.677095</td>\n",
              "      <td>1.793474</td>\n",
              "      <td>4.471417</td>\n",
              "      <td>8.639217</td>\n",
              "      <td>3.503487</td>\n",
              "    </tr>\n",
              "    <tr>\n",
              "      <th>min</th>\n",
              "      <td>4.000000</td>\n",
              "      <td>2.329000</td>\n",
              "      <td>0.660000</td>\n",
              "      <td>2.790000</td>\n",
              "      <td>0.330000</td>\n",
              "      <td>17.700000</td>\n",
              "      <td>0.590000</td>\n",
              "    </tr>\n",
              "    <tr>\n",
              "      <th>25%</th>\n",
              "      <td>10.000000</td>\n",
              "      <td>46.013000</td>\n",
              "      <td>12.535000</td>\n",
              "      <td>7.100000</td>\n",
              "      <td>6.132500</td>\n",
              "      <td>34.570000</td>\n",
              "      <td>5.480000</td>\n",
              "    </tr>\n",
              "    <tr>\n",
              "      <th>50%</th>\n",
              "      <td>14.000000</td>\n",
              "      <td>71.899000</td>\n",
              "      <td>19.500000</td>\n",
              "      <td>8.555000</td>\n",
              "      <td>9.570000</td>\n",
              "      <td>39.085000</td>\n",
              "      <td>8.150000</td>\n",
              "    </tr>\n",
              "    <tr>\n",
              "      <th>75%</th>\n",
              "      <td>20.000000</td>\n",
              "      <td>90.772500</td>\n",
              "      <td>24.845000</td>\n",
              "      <td>9.510000</td>\n",
              "      <td>10.885000</td>\n",
              "      <td>44.185000</td>\n",
              "      <td>9.990000</td>\n",
              "    </tr>\n",
              "    <tr>\n",
              "      <th>max</th>\n",
              "      <td>48.000000</td>\n",
              "      <td>220.000000</td>\n",
              "      <td>54.000000</td>\n",
              "      <td>11.820000</td>\n",
              "      <td>27.000000</td>\n",
              "      <td>71.430000</td>\n",
              "      <td>21.000000</td>\n",
              "    </tr>\n",
              "  </tbody>\n",
              "</table>\n",
              "</div>"
            ],
            "text/plain": [
              "              Age     Tonnage  ...  passenger_density        crew\n",
              "count  158.000000  158.000000  ...         158.000000  158.000000\n",
              "mean    15.689873   71.284671  ...          39.900949    7.794177\n",
              "std      7.615691   37.229540  ...           8.639217    3.503487\n",
              "min      4.000000    2.329000  ...          17.700000    0.590000\n",
              "25%     10.000000   46.013000  ...          34.570000    5.480000\n",
              "50%     14.000000   71.899000  ...          39.085000    8.150000\n",
              "75%     20.000000   90.772500  ...          44.185000    9.990000\n",
              "max     48.000000  220.000000  ...          71.430000   21.000000\n",
              "\n",
              "[8 rows x 7 columns]"
            ]
          },
          "metadata": {
            "tags": []
          },
          "execution_count": 7
        }
      ]
    },
    {
      "cell_type": "code",
      "metadata": {
        "id": "DnspWkh35S1F",
        "outputId": "93692d72-7c2d-4a64-b80e-aed83fb49791",
        "colab": {
          "base_uri": "https://localhost:8080/",
          "height": 312
        }
      },
      "source": [
        "# CREW ANALYSIS -- NORMAL DISTRIBUTION\n",
        "\n",
        "crew_min = pd.DataFrame.min(df[\"crew\"])\n",
        "crew_max = pd.DataFrame.max(df[\"crew\"])\n",
        "\n",
        "crew_mean = pd.DataFrame.mean(df[\"crew\"])\n",
        "crew_std = pd.DataFrame.std(df[\"crew\"])\n",
        "\n",
        "crew_x = np.linspace(crew_min, crew_max)\n",
        "crew_y = scipy.stats.norm.pdf(crew_x,crew_mean,crew_std)\n",
        "\n",
        "plt.plot(crew_x, crew_y, color = \"black\")\n",
        "\n",
        "## Sigma 1\n",
        "\n",
        "pt1 = crew_mean + crew_std\n",
        "plt.plot([pt1 ,pt1 ],[0.0,scipy.stats.norm.pdf(pt1 ,crew_mean, crew_std)], color='black')\n",
        "\n",
        "pt2 = crew_mean - crew_std\n",
        "plt.plot([pt2 ,pt2 ],[0.0,scipy.stats.norm.pdf(pt2 ,crew_mean, crew_std)], color='black')\n",
        "\n",
        "ptx = np.linspace(pt1, pt2, 10)\n",
        "pty = scipy.stats.norm.pdf(ptx, crew_mean, crew_std)\n",
        "\n",
        "plt.fill_between(ptx, pty, color='#0b559f', alpha=1.0)\n",
        "\n",
        "## Simga +2\n",
        "\n",
        "pt1 = crew_mean + crew_std\n",
        "plt.plot([pt1 ,pt1 ],[0.0,scipy.stats.norm.pdf(pt1, crew_mean, crew_std)], color='black')\n",
        "\n",
        "pt2 = crew_mean + 2.0 * crew_std\n",
        "plt.plot([pt2 ,pt2 ],[0.0,scipy.stats.norm.pdf(pt2, crew_mean, crew_std)], color='black')\n",
        "\n",
        "ptx = np.linspace(pt1, pt2, 10)\n",
        "pty = scipy.stats.norm.pdf(ptx, crew_mean, crew_std)\n",
        "\n",
        "plt.fill_between(ptx, pty, color='#2b7bba', alpha=1.0)\n",
        "\n",
        "## Sigma -2 \n",
        "\n",
        "pt1 = crew_mean - crew_std\n",
        "plt.plot([pt1 ,pt1 ],[0.0,scipy.stats.norm.pdf(pt1, crew_mean, crew_std)], color='black')\n",
        "\n",
        "pt2 = crew_mean - 2.0 * crew_std\n",
        "plt.plot([pt2 ,pt2 ],[0.0,scipy.stats.norm.pdf(pt2, crew_mean, crew_std)], color='black')\n",
        "\n",
        "ptx = np.linspace(pt1, pt2, 10)\n",
        "pty = scipy.stats.norm.pdf(ptx,crew_mean,crew_std)\n",
        "\n",
        "plt.fill_between(ptx, pty, color='#2b7bba', alpha=1.0)\n",
        "\n",
        "## Sigma +3\n",
        "\n",
        "pt1 = crew_mean + 2.0 * crew_std\n",
        "plt.plot([pt1 ,pt1 ],[0.0,scipy.stats.norm.pdf(pt1, crew_mean, crew_std)], color='black')\n",
        "\n",
        "pt2 = crew_mean + 3.0 * crew_std\n",
        "plt.plot([pt2 ,pt2 ],[0.0,scipy.stats.norm.pdf(pt2, crew_mean, crew_std)], color='black')\n",
        "\n",
        "ptx = np.linspace(pt1, pt2, 10)\n",
        "pty = scipy.stats.norm.pdf(ptx,crew_mean,crew_std)\n",
        "\n",
        "plt.fill_between(ptx, pty, color='#539ecd', alpha=1.0)\n",
        "\n",
        "## Sigma -3\n",
        "\n",
        "pt1 = crew_mean - 2.0 * crew_std\n",
        "plt.plot([pt1 ,pt1 ],[0.0,scipy.stats.norm.pdf(pt1, crew_mean, crew_std)], color='black')\n",
        "\n",
        "pt2 = crew_mean - 3.0 * crew_std\n",
        "plt.plot([pt2 ,pt2 ],[0.0,scipy.stats.norm.pdf(pt2, crew_mean, crew_std)], color='black')\n",
        "\n",
        "ptx = np.linspace(pt1, pt2, 10)\n",
        "pty = scipy.stats.norm.pdf(ptx,crew_mean,crew_std)\n",
        "\n",
        "plt.fill_between(ptx, pty, color='#539ecd', alpha=1.0)\n",
        "\n",
        "## Sigma +4\n",
        "\n",
        "pt1 = crew_mean + 3.0 * crew_std\n",
        "plt.plot([pt1 ,pt1 ],[0.0,scipy.stats.norm.pdf(pt1, crew_mean, crew_std)], color='black')\n",
        "\n",
        "pt2 = crew_mean + 10.0 * crew_std\n",
        "plt.plot([pt2 ,pt2 ],[0.0,scipy.stats.norm.pdf(pt2, crew_mean, crew_std)], color='black')\n",
        "\n",
        "ptx = np.linspace(pt1, pt2, 10)\n",
        "pty = scipy.stats.norm.pdf(ptx,crew_mean,crew_std)\n",
        "\n",
        "plt.fill_between(ptx, pty, color='#89bedc', alpha=1.0)\n",
        "\n",
        "## Plotting\n",
        "\n",
        "plt.grid()\n",
        "\n",
        "plt.xlim(crew_min, crew_max)\n",
        "plt.ylim(0,0.12)\n",
        "\n",
        "plt.title(\"Normal Distribution of Crew Members\")\n",
        "\n",
        "plt.xlabel(\"Crew Members\")\n",
        "plt.ylabel(\"Normal Distribution\")\n",
        "\n",
        "plt.show"
      ],
      "execution_count": 8,
      "outputs": [
        {
          "output_type": "execute_result",
          "data": {
            "text/plain": [
              "<function matplotlib.pyplot.show>"
            ]
          },
          "metadata": {
            "tags": []
          },
          "execution_count": 8
        },
        {
          "output_type": "display_data",
          "data": {
            "image/png": "[encoded data removed]",
            "text/plain": [
              "<Figure size 432x288 with 1 Axes>"
            ]
          },
          "metadata": {
            "tags": [],
            "needs_background": "light"
          }
        }
      ]
    },
    {
      "cell_type": "code",
      "metadata": {
        "id": "2guhoGMSTvWb",
        "outputId": "30a5e3b8-83b9-48bf-d5e0-614892f1a0f3",
        "colab": {
          "base_uri": "https://localhost:8080/",
          "height": 265
        }
      },
      "source": [
        "# CREW ANALYSIS -- BOXPLOT\n",
        "\n",
        "crew_boxplot = df.boxplot(column=['crew'])"
      ],
      "execution_count": 9,
      "outputs": [
        {
          "output_type": "display_data",
          "data": {
            "image/png": "[encoded data removed]",
            "text/plain": [
              "<Figure size 432x288 with 1 Axes>"
            ]
          },
          "metadata": {
            "tags": [],
            "needs_background": "light"
          }
        }
      ]
    },
    {
      "cell_type": "markdown",
      "metadata": {
        "id": "Ram0k5_eIt7c"
      },
      "source": [
        "**Dispersion Analysis**"
      ]
    },
    {
      "cell_type": "code",
      "metadata": {
        "id": "Ss53RqHSF6S1",
        "outputId": "21ed4e67-c4f8-4756-ab30-bd5e2d086a7c",
        "colab": {
          "base_uri": "https://localhost:8080/",
          "height": 279
        }
      },
      "source": [
        "crew_age = sns.regplot(x=df[\"Age\"], y=df[\"crew\"])"
      ],
      "execution_count": 13,
      "outputs": [
        {
          "output_type": "display_data",
          "data": {
            "image/png": "[encoded data removed]",
            "text/plain": [
              "<Figure size 432x288 with 1 Axes>"
            ]
          },
          "metadata": {
            "tags": [],
            "needs_background": "light"
          }
        }
      ]
    },
    {
      "cell_type": "code",
      "metadata": {
        "id": "4_oYjP5OI4cu",
        "outputId": "9142833b-8771-4057-99a8-55439567e264",
        "colab": {
          "base_uri": "https://localhost:8080/",
          "height": 279
        }
      },
      "source": [
        "crew_tonnage = sns.regplot(x=df[\"Tonnage\"], y=df[\"crew\"])\n"
      ],
      "execution_count": 12,
      "outputs": [
        {
          "output_type": "display_data",
          "data": {
            "image/png": "[encoded data removed]",
            "text/plain": [
              "<Figure size 432x288 with 1 Axes>"
            ]
          },
          "metadata": {
            "tags": [],
            "needs_background": "light"
          }
        }
      ]
    },
    {
      "cell_type": "code",
      "metadata": {
        "id": "nB0nEEYLJO7q",
        "outputId": "0a8e8679-bc6d-4c6d-e872-6d1aceceffd9",
        "colab": {
          "base_uri": "https://localhost:8080/",
          "height": 279
        }
      },
      "source": [
        "crew_pass = sns.regplot(x=df[\"passengers\"], y=df[\"crew\"])"
      ],
      "execution_count": 14,
      "outputs": [
        {
          "output_type": "display_data",
          "data": {
            "image/png": "[encoded data removed]",
            "text/plain": [
              "<Figure size 432x288 with 1 Axes>"
            ]
          },
          "metadata": {
            "tags": [],
            "needs_background": "light"
          }
        }
      ]
    },
    {
      "cell_type": "code",
      "metadata": {
        "id": "EGkfo3eVJVWc",
        "outputId": "684a5cad-69df-4d26-fb09-6d0c1f18564a",
        "colab": {
          "base_uri": "https://localhost:8080/",
          "height": 279
        }
      },
      "source": [
        "crew_length = sns.regplot(x=df[\"length\"], y=df[\"crew\"])"
      ],
      "execution_count": 15,
      "outputs": [
        {
          "output_type": "display_data",
          "data": {
            "image/png": "[encoded data removed]",
            "text/plain": [
              "<Figure size 432x288 with 1 Axes>"
            ]
          },
          "metadata": {
            "tags": [],
            "needs_background": "light"
          }
        }
      ]
    },
    {
      "cell_type": "code",
      "metadata": {
        "id": "bsjoQ7a5Jnxz",
        "outputId": "2a61d116-d366-4b2d-ed21-28788eadb18b",
        "colab": {
          "base_uri": "https://localhost:8080/",
          "height": 279
        }
      },
      "source": [
        "crew_cabins = sns.regplot(x=df[\"cabins\"], y=df[\"crew\"])"
      ],
      "execution_count": 16,
      "outputs": [
        {
          "output_type": "display_data",
          "data": {
            "image/png": "[encoded data removed]",
            "text/plain": [
              "<Figure size 432x288 with 1 Axes>"
            ]
          },
          "metadata": {
            "tags": [],
            "needs_background": "light"
          }
        }
      ]
    },
    {
      "cell_type": "code",
      "metadata": {
        "id": "m5k-6GmDJs5t",
        "outputId": "f251215d-ac9c-456c-8151-2cb909f3a28b",
        "colab": {
          "base_uri": "https://localhost:8080/",
          "height": 280
        }
      },
      "source": [
        "crew_denpass = sns.regplot(x=df[\"passenger_density\"], y=df[\"crew\"])"
      ],
      "execution_count": 17,
      "outputs": [
        {
          "output_type": "display_data",
          "data": {
            "image/png": "[encoded data removed]",
            "text/plain": [
              "<Figure size 432x288 with 1 Axes>"
            ]
          },
          "metadata": {
            "tags": [],
            "needs_background": "light"
          }
        }
      ]
    },
    {
      "cell_type": "markdown",
      "metadata": {
        "id": "EnITFwi-s_Wa"
      },
      "source": [
        "**Correlation Analysis**"
      ]
    },
    {
      "cell_type": "code",
      "metadata": {
        "id": "elzm45gAozf1",
        "outputId": "ff7e040d-88c5-4713-94e0-105aeccdf5ac",
        "colab": {
          "base_uri": "https://localhost:8080/",
          "height": 370
        }
      },
      "source": [
        "corr = df.corr()\n",
        "\n",
        "sns.heatmap(corr, annot = True, yticklabels=corr.columns, xticklabels=corr.columns)"
      ],
      "execution_count": null,
      "outputs": [
        {
          "output_type": "execute_result",
          "data": {
            "text/plain": [
              "<matplotlib.axes._subplots.AxesSubplot at 0x7fe241db3d30>"
            ]
          },
          "metadata": {
            "tags": []
          },
          "execution_count": 19
        },
        {
          "output_type": "display_data",
          "data": {
            "image/png": "[encoded data removed]",
            "text/plain": [
              "<Figure size 432x288 with 2 Axes>"
            ]
          },
          "metadata": {
            "tags": [],
            "needs_background": "light"
          }
        }
      ]
    },
    {
      "cell_type": "markdown",
      "metadata": {
        "id": "r9sqxectvH7k"
      },
      "source": [
        "For our Exploratory Data Analysis, we start assesing the most important variable for the recommendation algorithm: crew members. \n",
        "\n",
        "A remarkable fact is that the standard deviation is considerable: 44.92%. The latter means that our data extends through a large range around the median value. Likewise, the bloxpot graph allows to see the existance of few outliers which might have an impact on the position of our mean value.\n",
        "\n",
        "The most outstanding discovery of the EDA process is the correlation between variables. We start from assigning crew members as a dependant value in the y axis and the independent value in the x axis for the remaining values. We're, thus, assuming that the number of crew members depends on the condition of the ship -- e.g. the oldest or larger the ship is, a more significant crew is needed to attend the ship. \n",
        "\n",
        "There's a strong correlation in 5 of the 7 independent variables analyzed, which are going to be part of the model to be trained. "
      ]
    },
    {
      "cell_type": "markdown",
      "metadata": {
        "id": "xBS-ViHEvKFj"
      },
      "source": [
        "# 3 and 4. Column Selection and Deleting"
      ]
    },
    {
      "cell_type": "markdown",
      "metadata": {
        "id": "k1Fz-ID93h_l"
      },
      "source": [
        "For our project, we're going to make an algorithm which recommends a number of crew members based on relatable variables such as cabins, tonnage, passengers capacity and length. Age and passenger density are being deleted because they doesn't provide further information value given the results of the scatter plots and heatmap during the EDA process.\n",
        "\n",
        "We'll also delete de Ship_name and Cruise_line column, because they're cathegorical values that doesn't provide further numeric value based on ordinal relationships or a binary system. "
      ]
    },
    {
      "cell_type": "code",
      "metadata": {
        "id": "DkvKhTFYJagW",
        "outputId": "619d3479-dc20-479c-ce27-2452db64b2e8",
        "colab": {
          "base_uri": "https://localhost:8080/",
          "height": 419
        }
      },
      "source": [
        "working_df = df.drop([\"Ship_name\", \"Cruise_line\", \"Age\", \"passenger_density\"], axis=1)\n",
        "working_df"
      ],
      "execution_count": 19,
      "outputs": [
        {
          "output_type": "execute_result",
          "data": {
            "text/html": [
              "<div>\n",
              "<style scoped>\n",
              "    .dataframe tbody tr th:only-of-type {\n",
              "        vertical-align: middle;\n",
              "    }\n",
              "\n",
              "    .dataframe tbody tr th {\n",
              "        vertical-align: top;\n",
              "    }\n",
              "\n",
              "    .dataframe thead th {\n",
              "        text-align: right;\n",
              "    }\n",
              "</style>\n",
              "<table border=\"1\" class=\"dataframe\">\n",
              "  <thead>\n",
              "    <tr style=\"text-align: right;\">\n",
              "      <th></th>\n",
              "      <th>Tonnage</th>\n",
              "      <th>passengers</th>\n",
              "      <th>length</th>\n",
              "      <th>cabins</th>\n",
              "      <th>crew</th>\n",
              "    </tr>\n",
              "  </thead>\n",
              "  <tbody>\n",
              "    <tr>\n",
              "      <th>0</th>\n",
              "      <td>30.277</td>\n",
              "      <td>6.94</td>\n",
              "      <td>5.94</td>\n",
              "      <td>3.55</td>\n",
              "      <td>3.55</td>\n",
              "    </tr>\n",
              "    <tr>\n",
              "      <th>1</th>\n",
              "      <td>30.277</td>\n",
              "      <td>6.94</td>\n",
              "      <td>5.94</td>\n",
              "      <td>3.55</td>\n",
              "      <td>3.55</td>\n",
              "    </tr>\n",
              "    <tr>\n",
              "      <th>2</th>\n",
              "      <td>47.262</td>\n",
              "      <td>14.86</td>\n",
              "      <td>7.22</td>\n",
              "      <td>7.43</td>\n",
              "      <td>6.70</td>\n",
              "    </tr>\n",
              "    <tr>\n",
              "      <th>3</th>\n",
              "      <td>110.000</td>\n",
              "      <td>29.74</td>\n",
              "      <td>9.53</td>\n",
              "      <td>14.88</td>\n",
              "      <td>19.10</td>\n",
              "    </tr>\n",
              "    <tr>\n",
              "      <th>4</th>\n",
              "      <td>101.353</td>\n",
              "      <td>26.42</td>\n",
              "      <td>8.92</td>\n",
              "      <td>13.21</td>\n",
              "      <td>10.00</td>\n",
              "    </tr>\n",
              "    <tr>\n",
              "      <th>...</th>\n",
              "      <td>...</td>\n",
              "      <td>...</td>\n",
              "      <td>...</td>\n",
              "      <td>...</td>\n",
              "      <td>...</td>\n",
              "    </tr>\n",
              "    <tr>\n",
              "      <th>153</th>\n",
              "      <td>3.341</td>\n",
              "      <td>0.66</td>\n",
              "      <td>2.79</td>\n",
              "      <td>0.33</td>\n",
              "      <td>0.59</td>\n",
              "    </tr>\n",
              "    <tr>\n",
              "      <th>154</th>\n",
              "      <td>76.800</td>\n",
              "      <td>19.60</td>\n",
              "      <td>8.79</td>\n",
              "      <td>9.67</td>\n",
              "      <td>12.00</td>\n",
              "    </tr>\n",
              "    <tr>\n",
              "      <th>155</th>\n",
              "      <td>5.350</td>\n",
              "      <td>1.58</td>\n",
              "      <td>4.40</td>\n",
              "      <td>0.74</td>\n",
              "      <td>0.88</td>\n",
              "    </tr>\n",
              "    <tr>\n",
              "      <th>156</th>\n",
              "      <td>5.350</td>\n",
              "      <td>1.67</td>\n",
              "      <td>4.40</td>\n",
              "      <td>0.74</td>\n",
              "      <td>0.88</td>\n",
              "    </tr>\n",
              "    <tr>\n",
              "      <th>157</th>\n",
              "      <td>14.745</td>\n",
              "      <td>3.08</td>\n",
              "      <td>6.17</td>\n",
              "      <td>1.56</td>\n",
              "      <td>1.80</td>\n",
              "    </tr>\n",
              "  </tbody>\n",
              "</table>\n",
              "<p>158 rows × 5 columns</p>\n",
              "</div>"
            ],
            "text/plain": [
              "     Tonnage  passengers  length  cabins   crew\n",
              "0     30.277        6.94    5.94    3.55   3.55\n",
              "1     30.277        6.94    5.94    3.55   3.55\n",
              "2     47.262       14.86    7.22    7.43   6.70\n",
              "3    110.000       29.74    9.53   14.88  19.10\n",
              "4    101.353       26.42    8.92   13.21  10.00\n",
              "..       ...         ...     ...     ...    ...\n",
              "153    3.341        0.66    2.79    0.33   0.59\n",
              "154   76.800       19.60    8.79    9.67  12.00\n",
              "155    5.350        1.58    4.40    0.74   0.88\n",
              "156    5.350        1.67    4.40    0.74   0.88\n",
              "157   14.745        3.08    6.17    1.56   1.80\n",
              "\n",
              "[158 rows x 5 columns]"
            ]
          },
          "metadata": {
            "tags": []
          },
          "execution_count": 19
        }
      ]
    },
    {
      "cell_type": "markdown",
      "metadata": {
        "id": "VwQUrRgWCcPJ"
      },
      "source": [
        "\n",
        "\n",
        "# 5. One-Hot Encoding"
      ]
    },
    {
      "cell_type": "code",
      "metadata": {
        "id": "8dBWHyL_sPto",
        "outputId": "639e412a-f513-4c2d-a9d4-144d25351ec2",
        "colab": {
          "base_uri": "https://localhost:8080/",
          "height": 419
        }
      },
      "source": [
        "ct = ColumnTransformer([(\"Cruise_line\", OneHotEncoder(), [1])], remainder = 'passthrough')\n",
        "ohe_df = ct.fit_transform(df)\n",
        "pd.DataFrame(ohe_df)"
      ],
      "execution_count": 20,
      "outputs": [
        {
          "output_type": "execute_result",
          "data": {
            "text/html": [
              "<div>\n",
              "<style scoped>\n",
              "    .dataframe tbody tr th:only-of-type {\n",
              "        vertical-align: middle;\n",
              "    }\n",
              "\n",
              "    .dataframe tbody tr th {\n",
              "        vertical-align: top;\n",
              "    }\n",
              "\n",
              "    .dataframe thead th {\n",
              "        text-align: right;\n",
              "    }\n",
              "</style>\n",
              "<table border=\"1\" class=\"dataframe\">\n",
              "  <thead>\n",
              "    <tr style=\"text-align: right;\">\n",
              "      <th></th>\n",
              "      <th>0</th>\n",
              "      <th>1</th>\n",
              "      <th>2</th>\n",
              "      <th>3</th>\n",
              "      <th>4</th>\n",
              "      <th>5</th>\n",
              "      <th>6</th>\n",
              "      <th>7</th>\n",
              "      <th>8</th>\n",
              "      <th>9</th>\n",
              "      <th>10</th>\n",
              "      <th>11</th>\n",
              "      <th>12</th>\n",
              "      <th>13</th>\n",
              "      <th>14</th>\n",
              "      <th>15</th>\n",
              "      <th>16</th>\n",
              "      <th>17</th>\n",
              "      <th>18</th>\n",
              "      <th>19</th>\n",
              "      <th>20</th>\n",
              "      <th>21</th>\n",
              "      <th>22</th>\n",
              "      <th>23</th>\n",
              "      <th>24</th>\n",
              "      <th>25</th>\n",
              "      <th>26</th>\n",
              "      <th>27</th>\n",
              "    </tr>\n",
              "  </thead>\n",
              "  <tbody>\n",
              "    <tr>\n",
              "      <th>0</th>\n",
              "      <td>1</td>\n",
              "      <td>0</td>\n",
              "      <td>0</td>\n",
              "      <td>0</td>\n",
              "      <td>0</td>\n",
              "      <td>0</td>\n",
              "      <td>0</td>\n",
              "      <td>0</td>\n",
              "      <td>0</td>\n",
              "      <td>0</td>\n",
              "      <td>0</td>\n",
              "      <td>0</td>\n",
              "      <td>0</td>\n",
              "      <td>0</td>\n",
              "      <td>0</td>\n",
              "      <td>0</td>\n",
              "      <td>0</td>\n",
              "      <td>0</td>\n",
              "      <td>0</td>\n",
              "      <td>0</td>\n",
              "      <td>Journey</td>\n",
              "      <td>6</td>\n",
              "      <td>30.277</td>\n",
              "      <td>6.94</td>\n",
              "      <td>5.94</td>\n",
              "      <td>3.55</td>\n",
              "      <td>42.64</td>\n",
              "      <td>3.55</td>\n",
              "    </tr>\n",
              "    <tr>\n",
              "      <th>1</th>\n",
              "      <td>1</td>\n",
              "      <td>0</td>\n",
              "      <td>0</td>\n",
              "      <td>0</td>\n",
              "      <td>0</td>\n",
              "      <td>0</td>\n",
              "      <td>0</td>\n",
              "      <td>0</td>\n",
              "      <td>0</td>\n",
              "      <td>0</td>\n",
              "      <td>0</td>\n",
              "      <td>0</td>\n",
              "      <td>0</td>\n",
              "      <td>0</td>\n",
              "      <td>0</td>\n",
              "      <td>0</td>\n",
              "      <td>0</td>\n",
              "      <td>0</td>\n",
              "      <td>0</td>\n",
              "      <td>0</td>\n",
              "      <td>Quest</td>\n",
              "      <td>6</td>\n",
              "      <td>30.277</td>\n",
              "      <td>6.94</td>\n",
              "      <td>5.94</td>\n",
              "      <td>3.55</td>\n",
              "      <td>42.64</td>\n",
              "      <td>3.55</td>\n",
              "    </tr>\n",
              "    <tr>\n",
              "      <th>2</th>\n",
              "      <td>0</td>\n",
              "      <td>1</td>\n",
              "      <td>0</td>\n",
              "      <td>0</td>\n",
              "      <td>0</td>\n",
              "      <td>0</td>\n",
              "      <td>0</td>\n",
              "      <td>0</td>\n",
              "      <td>0</td>\n",
              "      <td>0</td>\n",
              "      <td>0</td>\n",
              "      <td>0</td>\n",
              "      <td>0</td>\n",
              "      <td>0</td>\n",
              "      <td>0</td>\n",
              "      <td>0</td>\n",
              "      <td>0</td>\n",
              "      <td>0</td>\n",
              "      <td>0</td>\n",
              "      <td>0</td>\n",
              "      <td>Celebration</td>\n",
              "      <td>26</td>\n",
              "      <td>47.262</td>\n",
              "      <td>14.86</td>\n",
              "      <td>7.22</td>\n",
              "      <td>7.43</td>\n",
              "      <td>31.8</td>\n",
              "      <td>6.7</td>\n",
              "    </tr>\n",
              "    <tr>\n",
              "      <th>3</th>\n",
              "      <td>0</td>\n",
              "      <td>1</td>\n",
              "      <td>0</td>\n",
              "      <td>0</td>\n",
              "      <td>0</td>\n",
              "      <td>0</td>\n",
              "      <td>0</td>\n",
              "      <td>0</td>\n",
              "      <td>0</td>\n",
              "      <td>0</td>\n",
              "      <td>0</td>\n",
              "      <td>0</td>\n",
              "      <td>0</td>\n",
              "      <td>0</td>\n",
              "      <td>0</td>\n",
              "      <td>0</td>\n",
              "      <td>0</td>\n",
              "      <td>0</td>\n",
              "      <td>0</td>\n",
              "      <td>0</td>\n",
              "      <td>Conquest</td>\n",
              "      <td>11</td>\n",
              "      <td>110</td>\n",
              "      <td>29.74</td>\n",
              "      <td>9.53</td>\n",
              "      <td>14.88</td>\n",
              "      <td>36.99</td>\n",
              "      <td>19.1</td>\n",
              "    </tr>\n",
              "    <tr>\n",
              "      <th>4</th>\n",
              "      <td>0</td>\n",
              "      <td>1</td>\n",
              "      <td>0</td>\n",
              "      <td>0</td>\n",
              "      <td>0</td>\n",
              "      <td>0</td>\n",
              "      <td>0</td>\n",
              "      <td>0</td>\n",
              "      <td>0</td>\n",
              "      <td>0</td>\n",
              "      <td>0</td>\n",
              "      <td>0</td>\n",
              "      <td>0</td>\n",
              "      <td>0</td>\n",
              "      <td>0</td>\n",
              "      <td>0</td>\n",
              "      <td>0</td>\n",
              "      <td>0</td>\n",
              "      <td>0</td>\n",
              "      <td>0</td>\n",
              "      <td>Destiny</td>\n",
              "      <td>17</td>\n",
              "      <td>101.353</td>\n",
              "      <td>26.42</td>\n",
              "      <td>8.92</td>\n",
              "      <td>13.21</td>\n",
              "      <td>38.36</td>\n",
              "      <td>10</td>\n",
              "    </tr>\n",
              "    <tr>\n",
              "      <th>...</th>\n",
              "      <td>...</td>\n",
              "      <td>...</td>\n",
              "      <td>...</td>\n",
              "      <td>...</td>\n",
              "      <td>...</td>\n",
              "      <td>...</td>\n",
              "      <td>...</td>\n",
              "      <td>...</td>\n",
              "      <td>...</td>\n",
              "      <td>...</td>\n",
              "      <td>...</td>\n",
              "      <td>...</td>\n",
              "      <td>...</td>\n",
              "      <td>...</td>\n",
              "      <td>...</td>\n",
              "      <td>...</td>\n",
              "      <td>...</td>\n",
              "      <td>...</td>\n",
              "      <td>...</td>\n",
              "      <td>...</td>\n",
              "      <td>...</td>\n",
              "      <td>...</td>\n",
              "      <td>...</td>\n",
              "      <td>...</td>\n",
              "      <td>...</td>\n",
              "      <td>...</td>\n",
              "      <td>...</td>\n",
              "      <td>...</td>\n",
              "    </tr>\n",
              "    <tr>\n",
              "      <th>153</th>\n",
              "      <td>0</td>\n",
              "      <td>0</td>\n",
              "      <td>0</td>\n",
              "      <td>0</td>\n",
              "      <td>0</td>\n",
              "      <td>0</td>\n",
              "      <td>0</td>\n",
              "      <td>0</td>\n",
              "      <td>0</td>\n",
              "      <td>0</td>\n",
              "      <td>0</td>\n",
              "      <td>0</td>\n",
              "      <td>0</td>\n",
              "      <td>0</td>\n",
              "      <td>0</td>\n",
              "      <td>0</td>\n",
              "      <td>0</td>\n",
              "      <td>0</td>\n",
              "      <td>1</td>\n",
              "      <td>0</td>\n",
              "      <td>Taurus</td>\n",
              "      <td>22</td>\n",
              "      <td>3.341</td>\n",
              "      <td>0.66</td>\n",
              "      <td>2.79</td>\n",
              "      <td>0.33</td>\n",
              "      <td>50.62</td>\n",
              "      <td>0.59</td>\n",
              "    </tr>\n",
              "    <tr>\n",
              "      <th>154</th>\n",
              "      <td>0</td>\n",
              "      <td>0</td>\n",
              "      <td>0</td>\n",
              "      <td>0</td>\n",
              "      <td>0</td>\n",
              "      <td>0</td>\n",
              "      <td>0</td>\n",
              "      <td>0</td>\n",
              "      <td>0</td>\n",
              "      <td>0</td>\n",
              "      <td>0</td>\n",
              "      <td>0</td>\n",
              "      <td>0</td>\n",
              "      <td>0</td>\n",
              "      <td>0</td>\n",
              "      <td>0</td>\n",
              "      <td>0</td>\n",
              "      <td>0</td>\n",
              "      <td>1</td>\n",
              "      <td>0</td>\n",
              "      <td>Virgo</td>\n",
              "      <td>14</td>\n",
              "      <td>76.8</td>\n",
              "      <td>19.6</td>\n",
              "      <td>8.79</td>\n",
              "      <td>9.67</td>\n",
              "      <td>39.18</td>\n",
              "      <td>12</td>\n",
              "    </tr>\n",
              "    <tr>\n",
              "      <th>155</th>\n",
              "      <td>0</td>\n",
              "      <td>0</td>\n",
              "      <td>0</td>\n",
              "      <td>0</td>\n",
              "      <td>0</td>\n",
              "      <td>0</td>\n",
              "      <td>0</td>\n",
              "      <td>0</td>\n",
              "      <td>0</td>\n",
              "      <td>0</td>\n",
              "      <td>0</td>\n",
              "      <td>0</td>\n",
              "      <td>0</td>\n",
              "      <td>0</td>\n",
              "      <td>0</td>\n",
              "      <td>0</td>\n",
              "      <td>0</td>\n",
              "      <td>0</td>\n",
              "      <td>0</td>\n",
              "      <td>1</td>\n",
              "      <td>Spirit</td>\n",
              "      <td>25</td>\n",
              "      <td>5.35</td>\n",
              "      <td>1.58</td>\n",
              "      <td>4.4</td>\n",
              "      <td>0.74</td>\n",
              "      <td>33.86</td>\n",
              "      <td>0.88</td>\n",
              "    </tr>\n",
              "    <tr>\n",
              "      <th>156</th>\n",
              "      <td>0</td>\n",
              "      <td>0</td>\n",
              "      <td>0</td>\n",
              "      <td>0</td>\n",
              "      <td>0</td>\n",
              "      <td>0</td>\n",
              "      <td>0</td>\n",
              "      <td>0</td>\n",
              "      <td>0</td>\n",
              "      <td>0</td>\n",
              "      <td>0</td>\n",
              "      <td>0</td>\n",
              "      <td>0</td>\n",
              "      <td>0</td>\n",
              "      <td>0</td>\n",
              "      <td>0</td>\n",
              "      <td>0</td>\n",
              "      <td>0</td>\n",
              "      <td>0</td>\n",
              "      <td>1</td>\n",
              "      <td>Star</td>\n",
              "      <td>27</td>\n",
              "      <td>5.35</td>\n",
              "      <td>1.67</td>\n",
              "      <td>4.4</td>\n",
              "      <td>0.74</td>\n",
              "      <td>32.04</td>\n",
              "      <td>0.88</td>\n",
              "    </tr>\n",
              "    <tr>\n",
              "      <th>157</th>\n",
              "      <td>0</td>\n",
              "      <td>0</td>\n",
              "      <td>0</td>\n",
              "      <td>0</td>\n",
              "      <td>0</td>\n",
              "      <td>0</td>\n",
              "      <td>0</td>\n",
              "      <td>0</td>\n",
              "      <td>0</td>\n",
              "      <td>0</td>\n",
              "      <td>0</td>\n",
              "      <td>0</td>\n",
              "      <td>0</td>\n",
              "      <td>0</td>\n",
              "      <td>0</td>\n",
              "      <td>0</td>\n",
              "      <td>0</td>\n",
              "      <td>0</td>\n",
              "      <td>0</td>\n",
              "      <td>1</td>\n",
              "      <td>Surf</td>\n",
              "      <td>23</td>\n",
              "      <td>14.745</td>\n",
              "      <td>3.08</td>\n",
              "      <td>6.17</td>\n",
              "      <td>1.56</td>\n",
              "      <td>47.87</td>\n",
              "      <td>1.8</td>\n",
              "    </tr>\n",
              "  </tbody>\n",
              "</table>\n",
              "<p>158 rows × 28 columns</p>\n",
              "</div>"
            ],
            "text/plain": [
              "    0  1  2  3  4  5  6   ...  21       22     23    24     25     26    27\n",
              "0    1  0  0  0  0  0  0  ...   6   30.277   6.94  5.94   3.55  42.64  3.55\n",
              "1    1  0  0  0  0  0  0  ...   6   30.277   6.94  5.94   3.55  42.64  3.55\n",
              "2    0  1  0  0  0  0  0  ...  26   47.262  14.86  7.22   7.43   31.8   6.7\n",
              "3    0  1  0  0  0  0  0  ...  11      110  29.74  9.53  14.88  36.99  19.1\n",
              "4    0  1  0  0  0  0  0  ...  17  101.353  26.42  8.92  13.21  38.36    10\n",
              "..  .. .. .. .. .. .. ..  ...  ..      ...    ...   ...    ...    ...   ...\n",
              "153  0  0  0  0  0  0  0  ...  22    3.341   0.66  2.79   0.33  50.62  0.59\n",
              "154  0  0  0  0  0  0  0  ...  14     76.8   19.6  8.79   9.67  39.18    12\n",
              "155  0  0  0  0  0  0  0  ...  25     5.35   1.58   4.4   0.74  33.86  0.88\n",
              "156  0  0  0  0  0  0  0  ...  27     5.35   1.67   4.4   0.74  32.04  0.88\n",
              "157  0  0  0  0  0  0  0  ...  23   14.745   3.08  6.17   1.56  47.87   1.8\n",
              "\n",
              "[158 rows x 28 columns]"
            ]
          },
          "metadata": {
            "tags": []
          },
          "execution_count": 20
        }
      ]
    },
    {
      "cell_type": "markdown",
      "metadata": {
        "id": "DRLfxMY_WY_c"
      },
      "source": [
        "# 6. Clusters for Training and Testing"
      ]
    },
    {
      "cell_type": "code",
      "metadata": {
        "id": "bAtjo-qmWVJO",
        "outputId": "c4364a70-b79a-4bbe-9fb6-b07ab877e21c",
        "colab": {
          "base_uri": "https://localhost:8080/",
          "height": 119
        }
      },
      "source": [
        "# Outliers cleaning with interquartile range\n",
        "\n",
        "Q1 = working_df.quantile(0.25)\n",
        "Q3 = working_df.quantile(0.75)\n",
        "IQR = Q3 - Q1\n",
        "IQR"
      ],
      "execution_count": 21,
      "outputs": [
        {
          "output_type": "execute_result",
          "data": {
            "text/plain": [
              "Tonnage       44.7595\n",
              "passengers    12.3100\n",
              "length         2.4100\n",
              "cabins         4.7525\n",
              "crew           4.5100\n",
              "dtype: float64"
            ]
          },
          "metadata": {
            "tags": []
          },
          "execution_count": 21
        }
      ]
    },
    {
      "cell_type": "code",
      "metadata": {
        "id": "PwUe8D-x0TVi",
        "outputId": "63e4b665-fe74-4b33-d622-a4a6aa303069",
        "colab": {
          "base_uri": "https://localhost:8080/",
          "height": 657
        }
      },
      "source": [
        "print(working_df < (Q1 - 1.5 * IQR)) or (working_df > (Q3 + 1.5 * IQR))"
      ],
      "execution_count": 22,
      "outputs": [
        {
          "output_type": "stream",
          "text": [
            "     Tonnage  passengers  length  cabins   crew\n",
            "0      False       False   False   False  False\n",
            "1      False       False   False   False  False\n",
            "2      False       False   False   False  False\n",
            "3      False       False   False   False  False\n",
            "4      False       False   False   False  False\n",
            "..       ...         ...     ...     ...    ...\n",
            "153    False       False    True   False  False\n",
            "154    False       False   False   False  False\n",
            "155    False       False   False   False  False\n",
            "156    False       False   False   False  False\n",
            "157    False       False   False   False  False\n",
            "\n",
            "[158 rows x 5 columns]\n"
          ],
          "name": "stdout"
        },
        {
          "output_type": "execute_result",
          "data": {
            "text/html": [
              "<div>\n",
              "<style scoped>\n",
              "    .dataframe tbody tr th:only-of-type {\n",
              "        vertical-align: middle;\n",
              "    }\n",
              "\n",
              "    .dataframe tbody tr th {\n",
              "        vertical-align: top;\n",
              "    }\n",
              "\n",
              "    .dataframe thead th {\n",
              "        text-align: right;\n",
              "    }\n",
              "</style>\n",
              "<table border=\"1\" class=\"dataframe\">\n",
              "  <thead>\n",
              "    <tr style=\"text-align: right;\">\n",
              "      <th></th>\n",
              "      <th>Tonnage</th>\n",
              "      <th>passengers</th>\n",
              "      <th>length</th>\n",
              "      <th>cabins</th>\n",
              "      <th>crew</th>\n",
              "    </tr>\n",
              "  </thead>\n",
              "  <tbody>\n",
              "    <tr>\n",
              "      <th>0</th>\n",
              "      <td>False</td>\n",
              "      <td>False</td>\n",
              "      <td>False</td>\n",
              "      <td>False</td>\n",
              "      <td>False</td>\n",
              "    </tr>\n",
              "    <tr>\n",
              "      <th>1</th>\n",
              "      <td>False</td>\n",
              "      <td>False</td>\n",
              "      <td>False</td>\n",
              "      <td>False</td>\n",
              "      <td>False</td>\n",
              "    </tr>\n",
              "    <tr>\n",
              "      <th>2</th>\n",
              "      <td>False</td>\n",
              "      <td>False</td>\n",
              "      <td>False</td>\n",
              "      <td>False</td>\n",
              "      <td>False</td>\n",
              "    </tr>\n",
              "    <tr>\n",
              "      <th>3</th>\n",
              "      <td>False</td>\n",
              "      <td>False</td>\n",
              "      <td>False</td>\n",
              "      <td>False</td>\n",
              "      <td>True</td>\n",
              "    </tr>\n",
              "    <tr>\n",
              "      <th>4</th>\n",
              "      <td>False</td>\n",
              "      <td>False</td>\n",
              "      <td>False</td>\n",
              "      <td>False</td>\n",
              "      <td>False</td>\n",
              "    </tr>\n",
              "    <tr>\n",
              "      <th>...</th>\n",
              "      <td>...</td>\n",
              "      <td>...</td>\n",
              "      <td>...</td>\n",
              "      <td>...</td>\n",
              "      <td>...</td>\n",
              "    </tr>\n",
              "    <tr>\n",
              "      <th>153</th>\n",
              "      <td>False</td>\n",
              "      <td>False</td>\n",
              "      <td>False</td>\n",
              "      <td>False</td>\n",
              "      <td>False</td>\n",
              "    </tr>\n",
              "    <tr>\n",
              "      <th>154</th>\n",
              "      <td>False</td>\n",
              "      <td>False</td>\n",
              "      <td>False</td>\n",
              "      <td>False</td>\n",
              "      <td>False</td>\n",
              "    </tr>\n",
              "    <tr>\n",
              "      <th>155</th>\n",
              "      <td>False</td>\n",
              "      <td>False</td>\n",
              "      <td>False</td>\n",
              "      <td>False</td>\n",
              "      <td>False</td>\n",
              "    </tr>\n",
              "    <tr>\n",
              "      <th>156</th>\n",
              "      <td>False</td>\n",
              "      <td>False</td>\n",
              "      <td>False</td>\n",
              "      <td>False</td>\n",
              "      <td>False</td>\n",
              "    </tr>\n",
              "    <tr>\n",
              "      <th>157</th>\n",
              "      <td>False</td>\n",
              "      <td>False</td>\n",
              "      <td>False</td>\n",
              "      <td>False</td>\n",
              "      <td>False</td>\n",
              "    </tr>\n",
              "  </tbody>\n",
              "</table>\n",
              "<p>158 rows × 5 columns</p>\n",
              "</div>"
            ],
            "text/plain": [
              "     Tonnage  passengers  length  cabins   crew\n",
              "0      False       False   False   False  False\n",
              "1      False       False   False   False  False\n",
              "2      False       False   False   False  False\n",
              "3      False       False   False   False   True\n",
              "4      False       False   False   False  False\n",
              "..       ...         ...     ...     ...    ...\n",
              "153    False       False   False   False  False\n",
              "154    False       False   False   False  False\n",
              "155    False       False   False   False  False\n",
              "156    False       False   False   False  False\n",
              "157    False       False   False   False  False\n",
              "\n",
              "[158 rows x 5 columns]"
            ]
          },
          "metadata": {
            "tags": []
          },
          "execution_count": 22
        }
      ]
    },
    {
      "cell_type": "code",
      "metadata": {
        "id": "RQ-usM7R15xO",
        "outputId": "03ab6ab1-def6-4f28-fe5e-46d5ac076db1",
        "colab": {
          "base_uri": "https://localhost:8080/",
          "height": 419
        }
      },
      "source": [
        "clean_df = working_df[~((working_df < (Q1 - 1.5 * IQR)) | (working_df > (Q3 + 1.5 * IQR))).any(axis=1)]\n",
        "clean_df"
      ],
      "execution_count": 23,
      "outputs": [
        {
          "output_type": "execute_result",
          "data": {
            "text/html": [
              "<div>\n",
              "<style scoped>\n",
              "    .dataframe tbody tr th:only-of-type {\n",
              "        vertical-align: middle;\n",
              "    }\n",
              "\n",
              "    .dataframe tbody tr th {\n",
              "        vertical-align: top;\n",
              "    }\n",
              "\n",
              "    .dataframe thead th {\n",
              "        text-align: right;\n",
              "    }\n",
              "</style>\n",
              "<table border=\"1\" class=\"dataframe\">\n",
              "  <thead>\n",
              "    <tr style=\"text-align: right;\">\n",
              "      <th></th>\n",
              "      <th>Tonnage</th>\n",
              "      <th>passengers</th>\n",
              "      <th>length</th>\n",
              "      <th>cabins</th>\n",
              "      <th>crew</th>\n",
              "    </tr>\n",
              "  </thead>\n",
              "  <tbody>\n",
              "    <tr>\n",
              "      <th>0</th>\n",
              "      <td>30.277</td>\n",
              "      <td>6.94</td>\n",
              "      <td>5.94</td>\n",
              "      <td>3.55</td>\n",
              "      <td>3.55</td>\n",
              "    </tr>\n",
              "    <tr>\n",
              "      <th>1</th>\n",
              "      <td>30.277</td>\n",
              "      <td>6.94</td>\n",
              "      <td>5.94</td>\n",
              "      <td>3.55</td>\n",
              "      <td>3.55</td>\n",
              "    </tr>\n",
              "    <tr>\n",
              "      <th>2</th>\n",
              "      <td>47.262</td>\n",
              "      <td>14.86</td>\n",
              "      <td>7.22</td>\n",
              "      <td>7.43</td>\n",
              "      <td>6.70</td>\n",
              "    </tr>\n",
              "    <tr>\n",
              "      <th>4</th>\n",
              "      <td>101.353</td>\n",
              "      <td>26.42</td>\n",
              "      <td>8.92</td>\n",
              "      <td>13.21</td>\n",
              "      <td>10.00</td>\n",
              "    </tr>\n",
              "    <tr>\n",
              "      <th>5</th>\n",
              "      <td>70.367</td>\n",
              "      <td>20.52</td>\n",
              "      <td>8.55</td>\n",
              "      <td>10.20</td>\n",
              "      <td>9.20</td>\n",
              "    </tr>\n",
              "    <tr>\n",
              "      <th>...</th>\n",
              "      <td>...</td>\n",
              "      <td>...</td>\n",
              "      <td>...</td>\n",
              "      <td>...</td>\n",
              "      <td>...</td>\n",
              "    </tr>\n",
              "    <tr>\n",
              "      <th>152</th>\n",
              "      <td>40.053</td>\n",
              "      <td>12.87</td>\n",
              "      <td>5.79</td>\n",
              "      <td>7.76</td>\n",
              "      <td>7.50</td>\n",
              "    </tr>\n",
              "    <tr>\n",
              "      <th>154</th>\n",
              "      <td>76.800</td>\n",
              "      <td>19.60</td>\n",
              "      <td>8.79</td>\n",
              "      <td>9.67</td>\n",
              "      <td>12.00</td>\n",
              "    </tr>\n",
              "    <tr>\n",
              "      <th>155</th>\n",
              "      <td>5.350</td>\n",
              "      <td>1.58</td>\n",
              "      <td>4.40</td>\n",
              "      <td>0.74</td>\n",
              "      <td>0.88</td>\n",
              "    </tr>\n",
              "    <tr>\n",
              "      <th>156</th>\n",
              "      <td>5.350</td>\n",
              "      <td>1.67</td>\n",
              "      <td>4.40</td>\n",
              "      <td>0.74</td>\n",
              "      <td>0.88</td>\n",
              "    </tr>\n",
              "    <tr>\n",
              "      <th>157</th>\n",
              "      <td>14.745</td>\n",
              "      <td>3.08</td>\n",
              "      <td>6.17</td>\n",
              "      <td>1.56</td>\n",
              "      <td>1.80</td>\n",
              "    </tr>\n",
              "  </tbody>\n",
              "</table>\n",
              "<p>150 rows × 5 columns</p>\n",
              "</div>"
            ],
            "text/plain": [
              "     Tonnage  passengers  length  cabins   crew\n",
              "0     30.277        6.94    5.94    3.55   3.55\n",
              "1     30.277        6.94    5.94    3.55   3.55\n",
              "2     47.262       14.86    7.22    7.43   6.70\n",
              "4    101.353       26.42    8.92   13.21  10.00\n",
              "5     70.367       20.52    8.55   10.20   9.20\n",
              "..       ...         ...     ...     ...    ...\n",
              "152   40.053       12.87    5.79    7.76   7.50\n",
              "154   76.800       19.60    8.79    9.67  12.00\n",
              "155    5.350        1.58    4.40    0.74   0.88\n",
              "156    5.350        1.67    4.40    0.74   0.88\n",
              "157   14.745        3.08    6.17    1.56   1.80\n",
              "\n",
              "[150 rows x 5 columns]"
            ]
          },
          "metadata": {
            "tags": []
          },
          "execution_count": 23
        }
      ]
    },
    {
      "cell_type": "code",
      "metadata": {
        "id": "RfDGEJL18Ldp",
        "outputId": "899e7d93-8ad5-4cbd-9eb2-6f62fd539fc4",
        "colab": {
          "base_uri": "https://localhost:8080/",
          "height": 419
        }
      },
      "source": [
        "# Obtaining an Aleatory Sample (60% of total clean data)\n",
        "\n",
        "sample_df = clean_df.sample(frac=0.6)\n",
        "sample_df"
      ],
      "execution_count": 24,
      "outputs": [
        {
          "output_type": "execute_result",
          "data": {
            "text/html": [
              "<div>\n",
              "<style scoped>\n",
              "    .dataframe tbody tr th:only-of-type {\n",
              "        vertical-align: middle;\n",
              "    }\n",
              "\n",
              "    .dataframe tbody tr th {\n",
              "        vertical-align: top;\n",
              "    }\n",
              "\n",
              "    .dataframe thead th {\n",
              "        text-align: right;\n",
              "    }\n",
              "</style>\n",
              "<table border=\"1\" class=\"dataframe\">\n",
              "  <thead>\n",
              "    <tr style=\"text-align: right;\">\n",
              "      <th></th>\n",
              "      <th>Tonnage</th>\n",
              "      <th>passengers</th>\n",
              "      <th>length</th>\n",
              "      <th>cabins</th>\n",
              "      <th>crew</th>\n",
              "    </tr>\n",
              "  </thead>\n",
              "  <tbody>\n",
              "    <tr>\n",
              "      <th>59</th>\n",
              "      <td>55.451</td>\n",
              "      <td>12.66</td>\n",
              "      <td>7.19</td>\n",
              "      <td>6.33</td>\n",
              "      <td>5.88</td>\n",
              "    </tr>\n",
              "    <tr>\n",
              "      <th>24</th>\n",
              "      <td>70.606</td>\n",
              "      <td>17.70</td>\n",
              "      <td>8.15</td>\n",
              "      <td>8.75</td>\n",
              "      <td>8.58</td>\n",
              "    </tr>\n",
              "    <tr>\n",
              "      <th>157</th>\n",
              "      <td>14.745</td>\n",
              "      <td>3.08</td>\n",
              "      <td>6.17</td>\n",
              "      <td>1.56</td>\n",
              "      <td>1.80</td>\n",
              "    </tr>\n",
              "    <tr>\n",
              "      <th>50</th>\n",
              "      <td>83.338</td>\n",
              "      <td>17.50</td>\n",
              "      <td>9.64</td>\n",
              "      <td>8.75</td>\n",
              "      <td>9.45</td>\n",
              "    </tr>\n",
              "    <tr>\n",
              "      <th>145</th>\n",
              "      <td>16.800</td>\n",
              "      <td>2.96</td>\n",
              "      <td>5.14</td>\n",
              "      <td>1.48</td>\n",
              "      <td>2.10</td>\n",
              "    </tr>\n",
              "    <tr>\n",
              "      <th>...</th>\n",
              "      <td>...</td>\n",
              "      <td>...</td>\n",
              "      <td>...</td>\n",
              "      <td>...</td>\n",
              "      <td>...</td>\n",
              "    </tr>\n",
              "    <tr>\n",
              "      <th>132</th>\n",
              "      <td>73.941</td>\n",
              "      <td>27.44</td>\n",
              "      <td>8.80</td>\n",
              "      <td>11.77</td>\n",
              "      <td>8.22</td>\n",
              "    </tr>\n",
              "    <tr>\n",
              "      <th>47</th>\n",
              "      <td>70.327</td>\n",
              "      <td>17.91</td>\n",
              "      <td>9.63</td>\n",
              "      <td>9.50</td>\n",
              "      <td>9.21</td>\n",
              "    </tr>\n",
              "    <tr>\n",
              "      <th>101</th>\n",
              "      <td>113.000</td>\n",
              "      <td>26.74</td>\n",
              "      <td>9.51</td>\n",
              "      <td>13.37</td>\n",
              "      <td>12.38</td>\n",
              "    </tr>\n",
              "    <tr>\n",
              "      <th>127</th>\n",
              "      <td>90.090</td>\n",
              "      <td>25.01</td>\n",
              "      <td>9.62</td>\n",
              "      <td>10.94</td>\n",
              "      <td>8.69</td>\n",
              "    </tr>\n",
              "    <tr>\n",
              "      <th>131</th>\n",
              "      <td>138.000</td>\n",
              "      <td>31.14</td>\n",
              "      <td>10.20</td>\n",
              "      <td>15.57</td>\n",
              "      <td>11.85</td>\n",
              "    </tr>\n",
              "  </tbody>\n",
              "</table>\n",
              "<p>90 rows × 5 columns</p>\n",
              "</div>"
            ],
            "text/plain": [
              "     Tonnage  passengers  length  cabins   crew\n",
              "59    55.451       12.66    7.19    6.33   5.88\n",
              "24    70.606       17.70    8.15    8.75   8.58\n",
              "157   14.745        3.08    6.17    1.56   1.80\n",
              "50    83.338       17.50    9.64    8.75   9.45\n",
              "145   16.800        2.96    5.14    1.48   2.10\n",
              "..       ...         ...     ...     ...    ...\n",
              "132   73.941       27.44    8.80   11.77   8.22\n",
              "47    70.327       17.91    9.63    9.50   9.21\n",
              "101  113.000       26.74    9.51   13.37  12.38\n",
              "127   90.090       25.01    9.62   10.94   8.69\n",
              "131  138.000       31.14   10.20   15.57  11.85\n",
              "\n",
              "[90 rows x 5 columns]"
            ]
          },
          "metadata": {
            "tags": []
          },
          "execution_count": 24
        }
      ]
    },
    {
      "cell_type": "code",
      "metadata": {
        "id": "G95MouiHKTGj",
        "outputId": "9427a06c-3f4e-4481-8adf-bf4762d816a2",
        "colab": {
          "base_uri": "https://localhost:8080/",
          "height": 51
        }
      },
      "source": [
        "y = sample_df[\"crew\"]\n",
        "X = sample_df[[\"Tonnage\", \"passengers\", \"length\", \"cabins\"]].iloc[:,0:4].values\n",
        "\n",
        "print(X.shape)\n",
        "print(y.shape)"
      ],
      "execution_count": 25,
      "outputs": [
        {
          "output_type": "stream",
          "text": [
            "(90, 4)\n",
            "(90,)\n"
          ],
          "name": "stdout"
        }
      ]
    },
    {
      "cell_type": "code",
      "metadata": {
        "id": "8vwAyq9_KTZD",
        "outputId": "d51e83d0-cbc5-42f6-e95c-745d1d410003",
        "colab": {
          "base_uri": "https://localhost:8080/",
          "height": 85
        }
      },
      "source": [
        "X_train, X_test, y_train, y_test = train_test_split( X, y, test_size=0.25, random_state=0)\n",
        "print(X_test.shape)\n",
        "print(X_train.shape)\n",
        "print(y_test.shape)\n",
        "print(y_train.shape)"
      ],
      "execution_count": 26,
      "outputs": [
        {
          "output_type": "stream",
          "text": [
            "(23, 4)\n",
            "(67, 4)\n",
            "(23,)\n",
            "(67,)\n"
          ],
          "name": "stdout"
        }
      ]
    },
    {
      "cell_type": "markdown",
      "metadata": {
        "id": "wlY4QXEbWmyh"
      },
      "source": [
        "# 7. Model Training"
      ]
    },
    {
      "cell_type": "code",
      "metadata": {
        "id": "JTbY3kr7xpbJ"
      },
      "source": [
        "reg = LinearRegression().fit(X_train, y_train)\n",
        "y_train_predict = reg.predict(X_train)\n",
        "y_test_predict = reg.predict(X_test)"
      ],
      "execution_count": 29,
      "outputs": []
    },
    {
      "cell_type": "code",
      "metadata": {
        "id": "o0EhBSR-O1i6",
        "outputId": "7b536a75-c51e-4ed9-ae20-f085a4d18c30",
        "colab": {
          "base_uri": "https://localhost:8080/",
          "height": 296
        }
      },
      "source": [
        "plt.scatter(y_train_predict,  y_train_predict - y_train,\n",
        "            c='blue')       \n",
        "plt.scatter(y_test_predict,  y_test_predict - y_test,\n",
        "            c='red')\n",
        "plt.xlabel('Predicted values')\n",
        "plt.ylabel('Residual')\n",
        "plt.hlines(y=0, xmin=-10, xmax=50, color='black', lw=2)\n",
        "plt.xlim([-10, 50])"
      ],
      "execution_count": 32,
      "outputs": [
        {
          "output_type": "execute_result",
          "data": {
            "text/plain": [
              "(-10.0, 50.0)"
            ]
          },
          "metadata": {
            "tags": []
          },
          "execution_count": 32
        },
        {
          "output_type": "display_data",
          "data": {
            "image/png": "[encoded data removed]",
            "text/plain": [
              "<Figure size 432x288 with 1 Axes>"
            ]
          },
          "metadata": {
            "tags": [],
            "needs_background": "light"
          }
        }
      ]
    },
    {
      "cell_type": "markdown",
      "metadata": {
        "id": "wWOFuyaeWrdE"
      },
      "source": [
        "# 8. Hyperparameters and Conclusions\n",
        "\n"
      ]
    },
    {
      "cell_type": "code",
      "metadata": {
        "id": "Zbuc4iCwMSwb",
        "outputId": "9f00e5b2-2d10-4857-bf01-d8fd57b78522",
        "colab": {
          "base_uri": "https://localhost:8080/",
          "height": 51
        }
      },
      "source": [
        "rmse = mean_squared_error(y_train, y_train_predict)\n",
        "r2 = r2_score(y_train, y_train_predict)\n",
        "\n",
        "print(rmse)\n",
        "print(r2)"
      ],
      "execution_count": 35,
      "outputs": [
        {
          "output_type": "stream",
          "text": [
            "0.6600178607455991\n",
            "0.9356032340986901\n"
          ],
          "name": "stdout"
        }
      ]
    },
    {
      "cell_type": "markdown",
      "metadata": {
        "id": "1pdQno-YYoN_"
      },
      "source": [
        "In this case, we worked with few nodes and layers for the machine learning process. This impacted on the high R² score. \n",
        "\n",
        "The hiperparameters were obtained by excluding outliers from the model and work on a short sample that was representative of the whole dataframe. "
      ]
    }
  ]
}